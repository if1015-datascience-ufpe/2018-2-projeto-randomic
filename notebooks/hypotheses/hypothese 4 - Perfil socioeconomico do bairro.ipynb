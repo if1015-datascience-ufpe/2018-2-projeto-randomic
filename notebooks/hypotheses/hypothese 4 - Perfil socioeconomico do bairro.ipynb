{
 "cells": [
  {
   "cell_type": "code",
   "execution_count": 99,
   "metadata": {},
   "outputs": [],
   "source": [
    "import pandas as pd\n",
    "import numpy as np\n",
    "import pandas as pd\n",
    "import numpy as np\n",
    "import seaborn as sns\n",
    "import matplotlib.pyplot as plt\n",
    "%matplotlib inline"
   ]
  },
  {
   "cell_type": "code",
   "execution_count": 100,
   "metadata": {},
   "outputs": [],
   "source": [
    "df_main = pd.read_hdf('../../data/processed/solicitacoes156.h5', key='data', format=\"table\")\n",
    "df_socio = pd.read_hdf('../../data/processed/socioeconomico.h5', key='data', format=\"table\")"
   ]
  },
  {
   "cell_type": "code",
   "execution_count": 101,
   "metadata": {},
   "outputs": [
    {
     "data": {
      "text/html": [
       "<div>\n",
       "<style scoped>\n",
       "    .dataframe tbody tr th:only-of-type {\n",
       "        vertical-align: middle;\n",
       "    }\n",
       "\n",
       "    .dataframe tbody tr th {\n",
       "        vertical-align: top;\n",
       "    }\n",
       "\n",
       "    .dataframe thead th {\n",
       "        text-align: right;\n",
       "    }\n",
       "</style>\n",
       "<table border=\"1\" class=\"dataframe\">\n",
       "  <thead>\n",
       "    <tr style=\"text-align: right;\">\n",
       "      <th></th>\n",
       "      <th>BAIRRO</th>\n",
       "      <th>RPA</th>\n",
       "      <th>MICROREGIAO</th>\n",
       "      <th>DIST_MARCO_ZERO</th>\n",
       "      <th>HECTARES</th>\n",
       "      <th>HABITANTES</th>\n",
       "      <th>NUM_HOMENS</th>\n",
       "      <th>POR_HOMENS</th>\n",
       "      <th>NUM_MULHERES</th>\n",
       "      <th>POR_MULHERES</th>\n",
       "      <th>...</th>\n",
       "      <th>PARDA</th>\n",
       "      <th>AMARELA</th>\n",
       "      <th>INDIGENA</th>\n",
       "      <th>ALFABETIZADOS</th>\n",
       "      <th>CRESCIMENTO_ANUAL</th>\n",
       "      <th>DENSIDADE</th>\n",
       "      <th>DOMICILIOS</th>\n",
       "      <th>MEDIA_MORADORES</th>\n",
       "      <th>MULHERES_RESPONSAVEIS</th>\n",
       "      <th>RENDA</th>\n",
       "    </tr>\n",
       "  </thead>\n",
       "  <tbody>\n",
       "    <tr>\n",
       "      <th>0</th>\n",
       "      <td>RECIFE</td>\n",
       "      <td>1</td>\n",
       "      <td>1.1</td>\n",
       "      <td>0.00</td>\n",
       "      <td>270.0</td>\n",
       "      <td>602</td>\n",
       "      <td>287</td>\n",
       "      <td>47.67</td>\n",
       "      <td>315</td>\n",
       "      <td>52.33</td>\n",
       "      <td>...</td>\n",
       "      <td>30.72</td>\n",
       "      <td>0.50</td>\n",
       "      <td>0.50</td>\n",
       "      <td>81.7</td>\n",
       "      <td>-4.20</td>\n",
       "      <td>2.23</td>\n",
       "      <td>198</td>\n",
       "      <td>3.0</td>\n",
       "      <td>66.83</td>\n",
       "      <td>567.00</td>\n",
       "    </tr>\n",
       "    <tr>\n",
       "      <th>1</th>\n",
       "      <td>BOA VISTA</td>\n",
       "      <td>1</td>\n",
       "      <td>1.2</td>\n",
       "      <td>2.78</td>\n",
       "      <td>176.0</td>\n",
       "      <td>14778</td>\n",
       "      <td>6164</td>\n",
       "      <td>41.71</td>\n",
       "      <td>8614</td>\n",
       "      <td>58.29</td>\n",
       "      <td>...</td>\n",
       "      <td>33.37</td>\n",
       "      <td>1.25</td>\n",
       "      <td>0.26</td>\n",
       "      <td>98.0</td>\n",
       "      <td>0.52</td>\n",
       "      <td>84.15</td>\n",
       "      <td>5999</td>\n",
       "      <td>2.4</td>\n",
       "      <td>54.43</td>\n",
       "      <td>3618.45</td>\n",
       "    </tr>\n",
       "    <tr>\n",
       "      <th>2</th>\n",
       "      <td>CABANGA</td>\n",
       "      <td>1</td>\n",
       "      <td>1.2</td>\n",
       "      <td>3.26</td>\n",
       "      <td>81.0</td>\n",
       "      <td>1551</td>\n",
       "      <td>679</td>\n",
       "      <td>43.78</td>\n",
       "      <td>872</td>\n",
       "      <td>56.22</td>\n",
       "      <td>...</td>\n",
       "      <td>45.13</td>\n",
       "      <td>1.35</td>\n",
       "      <td>0.32</td>\n",
       "      <td>94.0</td>\n",
       "      <td>0.10</td>\n",
       "      <td>19.16</td>\n",
       "      <td>506</td>\n",
       "      <td>3.1</td>\n",
       "      <td>57.00</td>\n",
       "      <td>1986.08</td>\n",
       "    </tr>\n",
       "    <tr>\n",
       "      <th>3</th>\n",
       "      <td>COELHOS</td>\n",
       "      <td>1</td>\n",
       "      <td>1.3</td>\n",
       "      <td>2.15</td>\n",
       "      <td>43.0</td>\n",
       "      <td>7633</td>\n",
       "      <td>3571</td>\n",
       "      <td>46.78</td>\n",
       "      <td>4062</td>\n",
       "      <td>53.22</td>\n",
       "      <td>...</td>\n",
       "      <td>53.36</td>\n",
       "      <td>0.86</td>\n",
       "      <td>0.72</td>\n",
       "      <td>87.0</td>\n",
       "      <td>1.12</td>\n",
       "      <td>178.51</td>\n",
       "      <td>2322</td>\n",
       "      <td>3.6</td>\n",
       "      <td>53.63</td>\n",
       "      <td>898.41</td>\n",
       "    </tr>\n",
       "    <tr>\n",
       "      <th>4</th>\n",
       "      <td>ILHA DO LEITE</td>\n",
       "      <td>1</td>\n",
       "      <td>1.2</td>\n",
       "      <td>2.64</td>\n",
       "      <td>26.0</td>\n",
       "      <td>1007</td>\n",
       "      <td>446</td>\n",
       "      <td>4.29</td>\n",
       "      <td>561</td>\n",
       "      <td>55.71</td>\n",
       "      <td>...</td>\n",
       "      <td>33.86</td>\n",
       "      <td>1.49</td>\n",
       "      <td>0.40</td>\n",
       "      <td>96.0</td>\n",
       "      <td>0.49</td>\n",
       "      <td>38.21</td>\n",
       "      <td>361</td>\n",
       "      <td>2.8</td>\n",
       "      <td>56.79</td>\n",
       "      <td>3024.11</td>\n",
       "    </tr>\n",
       "  </tbody>\n",
       "</table>\n",
       "<p>5 rows × 34 columns</p>\n",
       "</div>"
      ],
      "text/plain": [
       "          BAIRRO RPA MICROREGIAO  DIST_MARCO_ZERO  HECTARES  HABITANTES  \\\n",
       "0         RECIFE   1         1.1             0.00     270.0         602   \n",
       "1      BOA VISTA   1         1.2             2.78     176.0       14778   \n",
       "2        CABANGA   1         1.2             3.26      81.0        1551   \n",
       "3        COELHOS   1         1.3             2.15      43.0        7633   \n",
       "4  ILHA DO LEITE   1         1.2             2.64      26.0        1007   \n",
       "\n",
       "   NUM_HOMENS  POR_HOMENS  NUM_MULHERES  POR_MULHERES   ...     PARDA  \\\n",
       "0         287       47.67           315         52.33   ...     30.72   \n",
       "1        6164       41.71          8614         58.29   ...     33.37   \n",
       "2         679       43.78           872         56.22   ...     45.13   \n",
       "3        3571       46.78          4062         53.22   ...     53.36   \n",
       "4         446        4.29           561         55.71   ...     33.86   \n",
       "\n",
       "   AMARELA  INDIGENA  ALFABETIZADOS  CRESCIMENTO_ANUAL  DENSIDADE  DOMICILIOS  \\\n",
       "0     0.50      0.50           81.7              -4.20       2.23         198   \n",
       "1     1.25      0.26           98.0               0.52      84.15        5999   \n",
       "2     1.35      0.32           94.0               0.10      19.16         506   \n",
       "3     0.86      0.72           87.0               1.12     178.51        2322   \n",
       "4     1.49      0.40           96.0               0.49      38.21         361   \n",
       "\n",
       "   MEDIA_MORADORES  MULHERES_RESPONSAVEIS    RENDA  \n",
       "0              3.0                  66.83   567.00  \n",
       "1              2.4                  54.43  3618.45  \n",
       "2              3.1                  57.00  1986.08  \n",
       "3              3.6                  53.63   898.41  \n",
       "4              2.8                  56.79  3024.11  \n",
       "\n",
       "[5 rows x 34 columns]"
      ]
     },
     "execution_count": 101,
     "metadata": {},
     "output_type": "execute_result"
    }
   ],
   "source": [
    "df_socio.head()"
   ]
  },
  {
   "cell_type": "code",
   "execution_count": 4,
   "metadata": {},
   "outputs": [
    {
     "data": {
      "text/plain": [
       "Index(['BAIRRO', 'RPA', 'MICROREGIAO', 'DIST_MARCO_ZERO', 'HECTARES',\n",
       "       'HABITANTES', 'NUM_HOMENS', 'POR_HOMENS', 'NUM_MULHERES',\n",
       "       'POR_MULHERES', '0_4ANOS', '0_4ANOS%', '5_14ANOS', '5_14ANOS%',\n",
       "       '15_17ANOS', '15_17ANOS%', '18_24ANOS', '18_24ANOS%', '25_59ANOS',\n",
       "       '25_59ANOS%', '60_ANOS', '60_ANOS%', 'BRANCA', 'PRETA', 'PARDA',\n",
       "       'AMARELA', 'INDIGENA', 'ALFABETIZADOS', 'CRESCIMENTO_ANUAL',\n",
       "       'DENSIDADE', 'DOMICILIOS', 'MEDIA_MORADORES', 'MULHERES_RESPONSAVEIS',\n",
       "       'RENDA'],\n",
       "      dtype='object')"
      ]
     },
     "execution_count": 4,
     "metadata": {},
     "output_type": "execute_result"
    }
   ],
   "source": [
    "df_socio.columns"
   ]
  },
  {
   "cell_type": "markdown",
   "metadata": {},
   "source": [
    "#### O dataset de perfil socioeconomico é a primeira informação externa a ser utilizada no enriquecimentos dos dados. E possui as colunas vistas acima. Desses dados, o únicos que não possuiem representatividade, ou seja, que não agrega informação útil são os dados de RPA, MICROREGIAO, DIST_MARCO_ZERO."
   ]
  },
  {
   "cell_type": "code",
   "execution_count": 102,
   "metadata": {},
   "outputs": [],
   "source": [
    "df_socio.drop([\"RPA\",\"MICROREGIAO\",\"DIST_MARCO_ZERO\"],axis = 1, inplace = True)"
   ]
  },
  {
   "cell_type": "markdown",
   "metadata": {},
   "source": [
    "##### Para saber mais sobre os dados e o perfil socioeconomico vamos fazer uma análise vais detalhada desses dados."
   ]
  },
  {
   "cell_type": "markdown",
   "metadata": {},
   "source": [
    "* Primeiramente, vamos análisar alguns dados simples, como a amplitude de renda, ou seja, a diferença entre os que ganham mais e ganham menos, bem como o desvio padrão desses valores"
   ]
  },
  {
   "cell_type": "code",
   "execution_count": 8,
   "metadata": {},
   "outputs": [
    {
     "name": "stdout",
     "output_type": "stream",
     "text": [
      "10772.79\n"
     ]
    }
   ],
   "source": [
    "amplitude = df_socio.RENDA.max() - df_socio.RENDA.min()\n",
    "print(amplitude)"
   ]
  },
  {
   "cell_type": "markdown",
   "metadata": {},
   "source": [
    "##### Esse valor, apesar de ser obtido de forma simples, revela uma desigualdade absurda. A diferença  entre a renda do bairro mais rico e do mais pobre é de 10772,79 reais. Quando temos em mente que o calculo de renda utilizado pelo senso e disponibilizado pela prefeitura, é o da renda média, essa diferença se torna ainda mais gritante."
   ]
  },
  {
   "cell_type": "code",
   "execution_count": 9,
   "metadata": {},
   "outputs": [
    {
     "name": "stdout",
     "output_type": "stream",
     "text": [
      "2659.8160252327307\n"
     ]
    }
   ],
   "source": [
    "desvio = df_socio.RENDA.std()\n",
    "print(desvio)"
   ]
  },
  {
   "cell_type": "markdown",
   "metadata": {},
   "source": [
    "##### Valores altos para o desvio padrão significa que os dados estão bastant dispersos (desigualdade), uma vez que essa medida representao quanto os dados estão afastados da media."
   ]
  },
  {
   "cell_type": "markdown",
   "metadata": {},
   "source": [
    "* Apesar de não ser o foco dessa análise, vale a pena verificar a correlação entre elementos já conhecidos por serem decisivos na renda e na qualidade de vida das pessoas."
   ]
  },
  {
   "cell_type": "code",
   "execution_count": 10,
   "metadata": {},
   "outputs": [
    {
     "data": {
      "text/html": [
       "<div>\n",
       "<style scoped>\n",
       "    .dataframe tbody tr th:only-of-type {\n",
       "        vertical-align: middle;\n",
       "    }\n",
       "\n",
       "    .dataframe tbody tr th {\n",
       "        vertical-align: top;\n",
       "    }\n",
       "\n",
       "    .dataframe thead th {\n",
       "        text-align: right;\n",
       "    }\n",
       "</style>\n",
       "<table border=\"1\" class=\"dataframe\">\n",
       "  <thead>\n",
       "    <tr style=\"text-align: right;\">\n",
       "      <th></th>\n",
       "      <th>ALFABETIZADOS</th>\n",
       "      <th>RENDA</th>\n",
       "    </tr>\n",
       "  </thead>\n",
       "  <tbody>\n",
       "    <tr>\n",
       "      <th>ALFABETIZADOS</th>\n",
       "      <td>1.000000</td>\n",
       "      <td>0.665981</td>\n",
       "    </tr>\n",
       "    <tr>\n",
       "      <th>RENDA</th>\n",
       "      <td>0.665981</td>\n",
       "      <td>1.000000</td>\n",
       "    </tr>\n",
       "  </tbody>\n",
       "</table>\n",
       "</div>"
      ],
      "text/plain": [
       "               ALFABETIZADOS     RENDA\n",
       "ALFABETIZADOS       1.000000  0.665981\n",
       "RENDA               0.665981  1.000000"
      ]
     },
     "execution_count": 10,
     "metadata": {},
     "output_type": "execute_result"
    }
   ],
   "source": [
    "df_socio[[\"ALFABETIZADOS\", \"RENDA\"]].corr()"
   ]
  },
  {
   "cell_type": "code",
   "execution_count": 92,
   "metadata": {},
   "outputs": [
    {
     "data": {
      "text/plain": [
       "CRESCIMENTO_ANUAL    0.106767\n",
       "DENSIDADE           -0.115106\n",
       "DOMICILIOS          -0.051503\n",
       "MEDIA_MORADORES     -0.279802\n",
       "ALFABETIZADOS        0.665981\n",
       "RENDA                1.000000\n",
       "Name: RENDA, dtype: float64"
      ]
     },
     "execution_count": 92,
     "metadata": {},
     "output_type": "execute_result"
    }
   ],
   "source": [
    "df_socio[['CRESCIMENTO_ANUAL','DENSIDADE', 'DOMICILIOS', 'MEDIA_MORADORES','ALFABETIZADOS','RENDA']].corr()['RENDA']"
   ]
  },
  {
   "cell_type": "code",
   "execution_count": 91,
   "metadata": {},
   "outputs": [
    {
     "data": {
      "text/plain": [
       "RENDA           1.000000\n",
       "POR_HOMENS     -0.218535\n",
       "POR_MULHERES    0.412997\n",
       "Name: RENDA, dtype: float64"
      ]
     },
     "execution_count": 91,
     "metadata": {},
     "output_type": "execute_result"
    }
   ],
   "source": [
    "df_socio[['RENDA', 'POR_HOMENS', 'POR_MULHERES']].corr()['RENDA']"
   ]
  },
  {
   "cell_type": "code",
   "execution_count": 90,
   "metadata": {},
   "outputs": [
    {
     "data": {
      "text/plain": [
       "0_4ANOS%        -0.504302\n",
       "5_14ANOS%       -0.612101\n",
       "15_17ANOS%      -0.630153\n",
       "18_24ANOS%      -0.263413\n",
       "25_59ANOS%       0.298585\n",
       "60_ANOS%         0.649331\n",
       "ALFABETIZADOS    0.665981\n",
       "RENDA            1.000000\n",
       "Name: RENDA, dtype: float64"
      ]
     },
     "execution_count": 90,
     "metadata": {},
     "output_type": "execute_result"
    }
   ],
   "source": [
    "df_socio[['0_4ANOS%','5_14ANOS%','15_17ANOS%', '18_24ANOS%',\n",
    "       '25_59ANOS%', '60_ANOS%','ALFABETIZADOS','RENDA']].corr()['RENDA']"
   ]
  },
  {
   "cell_type": "markdown",
   "metadata": {},
   "source": [
    "#### Apesar da correlação indicar uma relação entre 2 valores, isso não quer dizer necessáriamente que essa relação existe de fato. Para o exemplos mostrados acima pode-se fazer alguns comentarios.\n",
    " * Uma relação forte, mais proxima de 1, entre renda e a porcentagem de alfabetizados é uma relação que faz sentido e tende a ser verdadeira, visto que níveis mais elevados e educação propiciam melhores ganhos, consequentimente aumento de renda.\n",
    " * Existe uma relação mais fraca entre renda e crecimento anual da população. Essa relação pode ser mais fraca devido ao fato de que o crescimento populacional não impacta a curto prazo a renda media do local.\n",
    " * Ao analisar a renda com a porcentagem de homem e mulheres, vemos um impacto das mulheres na renda um tanto significativo.\n",
    " * Já para o porcentagem por faixa de idade, temos um fato curioso. A renda e a taxa de alfabetizados, tem relação apenas para a faixa entre 25 e 60 anos. O que indica que melhores condições de vida, como bons ganhos e uma educação básica, podem influenciar na longevidade de uma população."
   ]
  },
  {
   "cell_type": "markdown",
   "metadata": {},
   "source": [
    "### Agora que já foi feita uma breve análise sobre os dados socioeconomicos, vamos seguir com o desenvolvimento da hipotese, e verificar se existe relação do perfil socioeconomico do bairro com o tipo de solicitação. Como os dados socioeconomicos são são agrupados por Bairro, faz sentido agrupar os dados do dataset principal por bairro."
   ]
  },
  {
   "cell_type": "code",
   "execution_count": 108,
   "metadata": {},
   "outputs": [
    {
     "data": {
      "text/plain": [
       "<matplotlib.axes._subplots.AxesSubplot at 0x25e118c7be0>"
      ]
     },
     "execution_count": 108,
     "metadata": {},
     "output_type": "execute_result"
    },
    {
     "data": {
      "image/png": "[encoded data removed]",
      "text/plain": [
       "<Figure size 864x576 with 1 Axes>"
      ]
     },
     "metadata": {
      "needs_background": "light"
     },
     "output_type": "display_data"
    }
   ],
   "source": [
    "df_bairro = df_main.groupby(\"BAIRRO\").agg({'GRUPOSERVICO_DESCRICAO': 'count'})\n",
    "df_merged = df_bairro.merge(df_socio, on=\"BAIRRO\")\n",
    "df_merged_corr = df_merged.corr(\"spearman\")['GRUPOSERVICO_DESCRICAO'].sort_values(ascending=False)\n",
    "df_merged_corr.to_csv(\"h3_1.csv\",sep=',',header=True)\n",
    "df_merged_corr.plot(kind='bar',figsize=(12,8), legend=False, color='grey')"
   ]
  },
  {
   "cell_type": "markdown",
   "metadata": {},
   "source": [
    "#### Considerando uma boa relação, aquelas que apresentam valores acima de 50%, pode-se notar que a quantidade de solicitações tem relação com todas as colunas que dizem respeito, ou se relacionam com a quantidade de habitante do bairro. Um fato importante a ser falado é que o número de solicitações não possui uma relação com a renda do bairro."
   ]
  },
  {
   "cell_type": "code",
   "execution_count": 58,
   "metadata": {},
   "outputs": [],
   "source": [
    "df_serv = pd.get_dummies(df_main['GRUPOSERVICO_DESCRICAO'])\n",
    "columns = df_serv.columns\n",
    "df_serv_merged = pd.concat([df_main,df_serv],axis=1).drop('GRUPOSERVICO_DESCRICAO',axis=1)"
   ]
  },
  {
   "cell_type": "code",
   "execution_count": 68,
   "metadata": {},
   "outputs": [],
   "source": [
    "df_hypothese = df_serv_merged.groupby(\"BAIRRO\")[columns].agg(sum)"
   ]
  },
  {
   "cell_type": "code",
   "execution_count": 70,
   "metadata": {},
   "outputs": [],
   "source": [
    "df_hypothese_socio = pd.merge(df_hypothese,df_socio,on=\"BAIRRO\")"
   ]
  },
  {
   "cell_type": "code",
   "execution_count": 109,
   "metadata": {},
   "outputs": [],
   "source": [
    "df_corr = df_hypothese_socio.corr('spearman')['RENDA']\n",
    "df_corr = df_corr[columns].sort_values(ascending=False)\n",
    "df_corr.to_csv('h3_2.csv',sep=',',header=True)"
   ]
  },
  {
   "cell_type": "code",
   "execution_count": 98,
   "metadata": {},
   "outputs": [
    {
     "data": {
      "text/plain": [
       "(-1, 1)"
      ]
     },
     "execution_count": 98,
     "metadata": {},
     "output_type": "execute_result"
    },
    {
     "data": {
      "image/png": "[encoded data removed]",
      "text/plain": [
       "<Figure size 1008x360 with 2 Axes>"
      ]
     },
     "metadata": {
      "needs_background": "light"
     },
     "output_type": "display_data"
    }
   ],
   "source": [
    "fig, axes = plt.subplots(nrows=1, ncols=2, sharey=True)\n",
    "ax = df_corr[:10].plot(kind='bar',figsize=(14,5), legend=False, color='grey',ax=axes[0])\n",
    "ax = df_corr[-10:].plot(kind='bar',figsize=(14,5), legend=False, color='grey',ax=axes[1])\n",
    "ax.set_ylim(-1,1)"
   ]
  },
  {
   "cell_type": "markdown",
   "metadata": {},
   "source": [
    "##### Com a correlações encontradas, não é possível verificar um relação forte entre a renda do bairro , e questões sociais com o tipo de solicitação feita. Esse fato pode ser observado no gráfico geografico encontrado no Tableau. Podemos notar, que os tipos de solicitação estão bem dispostos entre os diferentes bairros do Recife. Não havendo uma aglomeração especifica que permita identificar."
   ]
  }
 ],
 "metadata": {
  "kernelspec": {
   "display_name": "Python 3",
   "language": "python",
   "name": "python3"
  },
  "language_info": {
   "codemirror_mode": {
    "name": "ipython",
    "version": 3
   },
   "file_extension": ".py",
   "mimetype": "text/x-python",
   "name": "python",
   "nbconvert_exporter": "python",
   "pygments_lexer": "ipython3",
   "version": "3.7.0"
  }
 },
 "nbformat": 4,
 "nbformat_minor": 2
}
