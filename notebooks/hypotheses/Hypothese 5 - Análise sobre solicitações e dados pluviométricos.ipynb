{
 "cells": [
  {
   "cell_type": "markdown",
   "metadata": {},
   "source": [
    "## Qual o comportamente dos dados pluviométricos com relação as solicitações?\n",
    "\n",
    "Para analisarmos esse aspecto iremos estudar de forma exploratória os dados pluviométrico, a fim de estudar seu comportamento, e analisar o seu relacionamento com relação as informações das solicitações 156"
   ]
  },
  {
   "cell_type": "markdown",
   "metadata": {},
   "source": [
    "## Import de bibliotecas"
   ]
  },
  {
   "cell_type": "code",
   "execution_count": 64,
   "metadata": {},
   "outputs": [],
   "source": [
    "import matplotlib.pyplot as plt\n",
    "import seaborn as sns\n",
    "import pandas as pd\n",
    "import numpy as np\n",
    "\n",
    "%matplotlib inline  "
   ]
  },
  {
   "cell_type": "markdown",
   "metadata": {},
   "source": [
    "## Carregamento dos dados pluviométrico e das solicitações"
   ]
  },
  {
   "cell_type": "code",
   "execution_count": 65,
   "metadata": {},
   "outputs": [
    {
     "data": {
      "text/html": [
       "<div>\n",
       "<style scoped>\n",
       "    .dataframe tbody tr th:only-of-type {\n",
       "        vertical-align: middle;\n",
       "    }\n",
       "\n",
       "    .dataframe tbody tr th {\n",
       "        vertical-align: top;\n",
       "    }\n",
       "\n",
       "    .dataframe thead th {\n",
       "        text-align: right;\n",
       "    }\n",
       "</style>\n",
       "<table border=\"1\" class=\"dataframe\">\n",
       "  <thead>\n",
       "    <tr style=\"text-align: right;\">\n",
       "      <th></th>\n",
       "      <th>GRUPOSERVICO_CODIGO</th>\n",
       "      <th>GRUPOSERVICO_DESCRICAO</th>\n",
       "      <th>SERVICO_CODIGO</th>\n",
       "      <th>SERVICO_DESCRICAO</th>\n",
       "      <th>LOGRADOURO</th>\n",
       "      <th>NUMERO</th>\n",
       "      <th>BAIRRO</th>\n",
       "      <th>RPA</th>\n",
       "      <th>DATA_DEMANDA</th>\n",
       "      <th>SITUACAO</th>\n",
       "      <th>DATA_ULT_SITUACAO</th>\n",
       "      <th>ANO</th>\n",
       "    </tr>\n",
       "  </thead>\n",
       "  <tbody>\n",
       "    <tr>\n",
       "      <th>0</th>\n",
       "      <td>2</td>\n",
       "      <td>CONSERVACAO</td>\n",
       "      <td>1</td>\n",
       "      <td>REMOCAO DE ANIMAIS MORTOS PEQUENOS</td>\n",
       "      <td>1TR  PIRIZAL</td>\n",
       "      <td>3587</td>\n",
       "      <td>VASCO DA GAMA</td>\n",
       "      <td>3</td>\n",
       "      <td>2012-05-03</td>\n",
       "      <td>ATENDIDA</td>\n",
       "      <td>2012-05-03</td>\n",
       "      <td>2012</td>\n",
       "    </tr>\n",
       "    <tr>\n",
       "      <th>1</th>\n",
       "      <td>2</td>\n",
       "      <td>CONSERVACAO</td>\n",
       "      <td>1</td>\n",
       "      <td>REMOCAO DE ANIMAIS MORTOS PEQUENOS</td>\n",
       "      <td>1TR  SEBASTIAO GRANDE</td>\n",
       "      <td>3587</td>\n",
       "      <td>AREIAS</td>\n",
       "      <td>5</td>\n",
       "      <td>2012-05-10</td>\n",
       "      <td>ATENDIDA</td>\n",
       "      <td>2012-05-10</td>\n",
       "      <td>2012</td>\n",
       "    </tr>\n",
       "    <tr>\n",
       "      <th>2</th>\n",
       "      <td>2</td>\n",
       "      <td>CONSERVACAO</td>\n",
       "      <td>1</td>\n",
       "      <td>REMOCAO DE ANIMAIS MORTOS PEQUENOS</td>\n",
       "      <td>AV  ANTONIO DE GOES</td>\n",
       "      <td>3578</td>\n",
       "      <td>PINA</td>\n",
       "      <td>6</td>\n",
       "      <td>2012-05-11</td>\n",
       "      <td>ATENDIDA</td>\n",
       "      <td>2012-05-11</td>\n",
       "      <td>2012</td>\n",
       "    </tr>\n",
       "    <tr>\n",
       "      <th>3</th>\n",
       "      <td>2</td>\n",
       "      <td>CONSERVACAO</td>\n",
       "      <td>1</td>\n",
       "      <td>REMOCAO DE ANIMAIS MORTOS PEQUENOS</td>\n",
       "      <td>AV  BEBERIBE</td>\n",
       "      <td>00</td>\n",
       "      <td>AGUA FRIA</td>\n",
       "      <td>2</td>\n",
       "      <td>2012-09-12</td>\n",
       "      <td>ATENDIDA</td>\n",
       "      <td>2012-09-12</td>\n",
       "      <td>2012</td>\n",
       "    </tr>\n",
       "    <tr>\n",
       "      <th>4</th>\n",
       "      <td>2</td>\n",
       "      <td>CONSERVACAO</td>\n",
       "      <td>1</td>\n",
       "      <td>REMOCAO DE ANIMAIS MORTOS PEQUENOS</td>\n",
       "      <td>AV  BEIRA RIO</td>\n",
       "      <td>00</td>\n",
       "      <td>MADALENA</td>\n",
       "      <td>4</td>\n",
       "      <td>2012-08-10</td>\n",
       "      <td>ATENDIDA</td>\n",
       "      <td>2012-08-10</td>\n",
       "      <td>2012</td>\n",
       "    </tr>\n",
       "  </tbody>\n",
       "</table>\n",
       "</div>"
      ],
      "text/plain": [
       "  GRUPOSERVICO_CODIGO GRUPOSERVICO_DESCRICAO SERVICO_CODIGO  \\\n",
       "0                   2            CONSERVACAO              1   \n",
       "1                   2            CONSERVACAO              1   \n",
       "2                   2            CONSERVACAO              1   \n",
       "3                   2            CONSERVACAO              1   \n",
       "4                   2            CONSERVACAO              1   \n",
       "\n",
       "                    SERVICO_DESCRICAO             LOGRADOURO NUMERO  \\\n",
       "0  REMOCAO DE ANIMAIS MORTOS PEQUENOS           1TR  PIRIZAL   3587   \n",
       "1  REMOCAO DE ANIMAIS MORTOS PEQUENOS  1TR  SEBASTIAO GRANDE   3587   \n",
       "2  REMOCAO DE ANIMAIS MORTOS PEQUENOS    AV  ANTONIO DE GOES   3578   \n",
       "3  REMOCAO DE ANIMAIS MORTOS PEQUENOS           AV  BEBERIBE     00   \n",
       "4  REMOCAO DE ANIMAIS MORTOS PEQUENOS          AV  BEIRA RIO     00   \n",
       "\n",
       "          BAIRRO RPA DATA_DEMANDA  SITUACAO DATA_ULT_SITUACAO   ANO  \n",
       "0  VASCO DA GAMA   3   2012-05-03  ATENDIDA        2012-05-03  2012  \n",
       "1         AREIAS   5   2012-05-10  ATENDIDA        2012-05-10  2012  \n",
       "2           PINA   6   2012-05-11  ATENDIDA        2012-05-11  2012  \n",
       "3      AGUA FRIA   2   2012-09-12  ATENDIDA        2012-09-12  2012  \n",
       "4       MADALENA   4   2012-08-10  ATENDIDA        2012-08-10  2012  "
      ]
     },
     "metadata": {},
     "output_type": "display_data"
    },
    {
     "data": {
      "text/html": [
       "<div>\n",
       "<style scoped>\n",
       "    .dataframe tbody tr th:only-of-type {\n",
       "        vertical-align: middle;\n",
       "    }\n",
       "\n",
       "    .dataframe tbody tr th {\n",
       "        vertical-align: top;\n",
       "    }\n",
       "\n",
       "    .dataframe thead th {\n",
       "        text-align: right;\n",
       "    }\n",
       "</style>\n",
       "<table border=\"1\" class=\"dataframe\">\n",
       "  <thead>\n",
       "    <tr style=\"text-align: right;\">\n",
       "      <th></th>\n",
       "      <th>DATA</th>\n",
       "      <th>INDICE</th>\n",
       "    </tr>\n",
       "  </thead>\n",
       "  <tbody>\n",
       "    <tr>\n",
       "      <th>0</th>\n",
       "      <td>2012-04-01</td>\n",
       "      <td>33.0</td>\n",
       "    </tr>\n",
       "    <tr>\n",
       "      <th>1</th>\n",
       "      <td>2012-08-01</td>\n",
       "      <td>21.8</td>\n",
       "    </tr>\n",
       "    <tr>\n",
       "      <th>2</th>\n",
       "      <td>2012-12-01</td>\n",
       "      <td>0.0</td>\n",
       "    </tr>\n",
       "    <tr>\n",
       "      <th>3</th>\n",
       "      <td>2012-02-01</td>\n",
       "      <td>0.0</td>\n",
       "    </tr>\n",
       "    <tr>\n",
       "      <th>4</th>\n",
       "      <td>2012-01-01</td>\n",
       "      <td>0.0</td>\n",
       "    </tr>\n",
       "  </tbody>\n",
       "</table>\n",
       "</div>"
      ],
      "text/plain": [
       "        DATA  INDICE\n",
       "0 2012-04-01    33.0\n",
       "1 2012-08-01    21.8\n",
       "2 2012-12-01     0.0\n",
       "3 2012-02-01     0.0\n",
       "4 2012-01-01     0.0"
      ]
     },
     "metadata": {},
     "output_type": "display_data"
    }
   ],
   "source": [
    "df_156 = pd.read_hdf('../../data/processed/solicitacoes156.h5', key='data', format=\"table\")\n",
    "df_plu = pd.read_hdf('../../data/processed/pluviometrico.h5', key='data', format=\"table\")\n",
    "display(df_156.head())\n",
    "display(df_plu.head())"
   ]
  },
  {
   "cell_type": "markdown",
   "metadata": {},
   "source": [
    "## Análise sobre as médias e dispersão gerais, anuais e mensais com relação aos dados pluviométricos"
   ]
  },
  {
   "cell_type": "code",
   "execution_count": 114,
   "metadata": {},
   "outputs": [
    {
     "name": "stdout",
     "output_type": "stream",
     "text": [
      "Média geral de indice pluviométrico em Recife: 50.191\n",
      "Desvio padrão geral de indice pluviométrico em Recife: 115.527\n"
     ]
    },
    {
     "data": {
      "image/png": "[encoded data removed]",
      "text/plain": [
       "<Figure size 576x360 with 1 Axes>"
      ]
     },
     "metadata": {
      "needs_background": "light"
     },
     "output_type": "display_data"
    },
    {
     "data": {
      "image/png": "[encoded data removed]",
      "text/plain": [
       "<Figure size 576x360 with 1 Axes>"
      ]
     },
     "metadata": {
      "needs_background": "light"
     },
     "output_type": "display_data"
    }
   ],
   "source": [
    "print('Média geral de indice pluviométrico em Recife:', round(df_plu['INDICE'].mean(), 3))\n",
    "print('Desvio padrão geral de indice pluviométrico em Recife:', round(df_plu['INDICE'].std(), 3))\n",
    "\n",
    "ax = df_plu.groupby(df_plu['DATA'].dt.year).mean().plot.bar(\n",
    "    title='Média do índice pluviométrico com relação ao ano em Recife',\n",
    "    #yerr=df_plu.groupby(df_plu['DATA'].dt.year).std(),\n",
    "    figsize=(8, 5)\n",
    ")\n",
    "ax.set_ylabel('Média do índice pluviométrico')\n",
    "ax.set_xlabel('Anos')\n",
    "\n",
    "ax = df_plu.groupby([df_plu['DATA'].dt.month]).mean().plot.bar(\n",
    "    title='Média do indice pluviométrico com relação aos meses do ano em Recife',\n",
    "    #yerr=df_plu.groupby(df_plu['DATA'].dt.month).std(),\n",
    "    figsize=(8, 5)\n",
    ")\n",
    "ax.set_ylabel('Média do índice pluviométrico')\n",
    "aux = ax.set_xlabel('Meses')"
   ]
  },
  {
   "cell_type": "code",
   "execution_count": 112,
   "metadata": {},
   "outputs": [],
   "source": [
    "df_plu.groupby(df_plu['DATA'].dt.year).mean().to_csv('../../mean_pluv_year.csv', index=False, sep=',')\n",
    "df_plu.groupby(df_plu['DATA'].dt.month).mean().to_csv('../../mean_pluv_month.csv', index=False, sep=',')"
   ]
  },
  {
   "cell_type": "markdown",
   "metadata": {},
   "source": [
    "## Análise sobre a distribuição dos dados pluviométrico"
   ]
  },
  {
   "cell_type": "code",
   "execution_count": 67,
   "metadata": {},
   "outputs": [
    {
     "name": "stdout",
     "output_type": "stream",
     "text": [
      "Histograma dos dados pluviométricos:\n"
     ]
    },
    {
     "data": {
      "image/png": "[encoded data removed]",
      "text/plain": [
       "<Figure size 864x576 with 1 Axes>"
      ]
     },
     "metadata": {
      "needs_background": "light"
     },
     "output_type": "display_data"
    }
   ],
   "source": [
    "df_plu.hist(figsize=(12, 8))\n",
    "print('Histograma dos dados pluviométricos:')"
   ]
  },
  {
   "cell_type": "markdown",
   "metadata": {},
   "source": [
    "## Conclusão\n",
    "\n",
    "Sobre os dados pluviométricos podemos concluir que em média, Recife possui um volume ponderado de chuvas, cerca de 50mm, e que esse valor tende a se preservar durante os anos, permanecendo na faixa de 40 a 60mm por ano. Observe também que com relação aos meses, Recife parece ter um período chuvoso entre e março e agosto, e um periodo com menor índice de chuvas entre setembro e fevereiro. Podemos resaltar que a dispersão é bem elevada com relação a média, apresentando diferenças significativas durante ao ano. Observe também o histograma, podemos observar uma distribuição normal, onde temos um numero elevado de entenperes leves, muito maior com relação a emtemperes moderadas e elevadas"
   ]
  },
  {
   "cell_type": "markdown",
   "metadata": {},
   "source": [
    "## Análise dos dados pluviométrico com relação aos grupos de serviços"
   ]
  },
  {
   "cell_type": "code",
   "execution_count": 132,
   "metadata": {},
   "outputs": [],
   "source": [
    "df_156.columns = ['GRUPOSERVICO_CODIGO', 'GRUPOSERVICO_DESCRICAO', 'SERVICO_CODIGO', 'SERVICO_DESCRICAO', 'LOGRADOURO', 'NUMERO', 'BAIRRO', 'RPA', 'DATA', 'SITUACAO', 'DATA_ULT_SITUACAO', 'ANO']\n",
    "merged_df = pd.merge(left=df_156, right=df_plu, on='DATA')\n",
    "groups_df = pd.get_dummies(merged_df['GRUPOSERVICO_DESCRICAO'])\n",
    "concat_df = pd.concat([merged_df, groups_df], axis=1)\n",
    "final_df = concat_df[['DATA', 'INDICE'] + list(groups_df.columns)].groupby('DATA')\n",
    "data_df = pd.concat([final_df['INDICE'].mean(), final_df[groups_df.columns].sum()], axis=1)"
   ]
  },
  {
   "cell_type": "code",
   "execution_count": 133,
   "metadata": {},
   "outputs": [
    {
     "name": "stdout",
     "output_type": "stream",
     "text": [
      "Tabela de correlações Pearson entre os grupos de serviços:\n"
     ]
    },
    {
     "data": {
      "text/html": [
       "<div>\n",
       "<style scoped>\n",
       "    .dataframe tbody tr th:only-of-type {\n",
       "        vertical-align: middle;\n",
       "    }\n",
       "\n",
       "    .dataframe tbody tr th {\n",
       "        vertical-align: top;\n",
       "    }\n",
       "\n",
       "    .dataframe thead th {\n",
       "        text-align: right;\n",
       "    }\n",
       "</style>\n",
       "<table border=\"1\" class=\"dataframe\">\n",
       "  <thead>\n",
       "    <tr style=\"text-align: right;\">\n",
       "      <th></th>\n",
       "      <th>ARBORIZACAO</th>\n",
       "      <th>ILUMINACAO PUBLICA</th>\n",
       "      <th>DRENAGEM</th>\n",
       "    </tr>\n",
       "  </thead>\n",
       "  <tbody>\n",
       "    <tr>\n",
       "      <th>ARBORIZACAO</th>\n",
       "      <td>0.000000</td>\n",
       "      <td>0.663692</td>\n",
       "      <td>0.675619</td>\n",
       "    </tr>\n",
       "    <tr>\n",
       "      <th>ILUMINACAO PUBLICA</th>\n",
       "      <td>0.663692</td>\n",
       "      <td>0.000000</td>\n",
       "      <td>0.763058</td>\n",
       "    </tr>\n",
       "    <tr>\n",
       "      <th>DRENAGEM</th>\n",
       "      <td>0.675619</td>\n",
       "      <td>0.763058</td>\n",
       "      <td>0.000000</td>\n",
       "    </tr>\n",
       "  </tbody>\n",
       "</table>\n",
       "</div>"
      ],
      "text/plain": [
       "                    ARBORIZACAO  ILUMINACAO PUBLICA  DRENAGEM\n",
       "ARBORIZACAO            0.000000            0.663692  0.675619\n",
       "ILUMINACAO PUBLICA     0.663692            0.000000  0.763058\n",
       "DRENAGEM               0.675619            0.763058  0.000000"
      ]
     },
     "metadata": {},
     "output_type": "display_data"
    }
   ],
   "source": [
    "corr_df = data_df.corr()\n",
    "\n",
    "np.fill_diagonal(corr_df.values, 0)\n",
    "\n",
    "new_cols = []\n",
    "threshold = 0.6\n",
    "cols = corr_df.columns.values\n",
    "for i in range(cols.shape[0]):\n",
    "    for j in range(i, cols.shape[0]):\n",
    "        maximum = corr_df.iloc[i, j]\n",
    "        if maximum >= threshold:\n",
    "            new_cols.append(cols[i])\n",
    "\n",
    "new_cols = list(set(new_cols))\n",
    "data_corr = corr_df.loc[new_cols, new_cols]\n",
    "np.fill_diagonal(data_corr.values, 0)\n",
    "\n",
    "print('Tabela de correlações Pearson entre os grupos de serviços:')\n",
    "display(data_corr)"
   ]
  },
  {
   "cell_type": "code",
   "execution_count": 134,
   "metadata": {},
   "outputs": [
    {
     "data": {
      "text/plain": [
       "ARBORIZACAO                       0.143027\n",
       "DRENAGEM                          0.085372\n",
       "MACRODRENAGEM                     0.080025\n",
       "COLETA URBANA                     0.038142\n",
       "DENUNCIAS                         0.035419\n",
       "MANUT. URBANA                     0.019873\n",
       "POSTE                             0.015587\n",
       "ILUMINACAO RELUZ                  0.011301\n",
       "PLANEJAMENTO DE LIMPEZA URBANA    0.006410\n",
       "CALCADAS ARVORES                  0.006395\n",
       "Name: INDICE, dtype: float64"
      ]
     },
     "execution_count": 134,
     "metadata": {},
     "output_type": "execute_result"
    }
   ],
   "source": [
    "corr_df['INDICE'].sort_values(ascending=False)[:10]"
   ]
  },
  {
   "cell_type": "code",
   "execution_count": 135,
   "metadata": {},
   "outputs": [
    {
     "data": {
      "text/plain": [
       "<seaborn.axisgrid.PairGrid at 0x1a23bf8ba8>"
      ]
     },
     "execution_count": 135,
     "metadata": {},
     "output_type": "execute_result"
    },
    {
     "data": {
      "image/png": "[encoded data removed]",
      "text/plain": [
       "<Figure size 540x540 with 12 Axes>"
      ]
     },
     "metadata": {
      "needs_background": "light"
     },
     "output_type": "display_data"
    }
   ],
   "source": [
    "sns.pairplot(data_df[new_cols], plot_kws={\"s\": 10})"
   ]
  },
  {
   "cell_type": "code",
   "execution_count": 136,
   "metadata": {},
   "outputs": [
    {
     "name": "stdout",
     "output_type": "stream",
     "text": [
      "Tabela de correlações Spearman entre os grupos de serviços:\n"
     ]
    },
    {
     "data": {
      "text/html": [
       "<div>\n",
       "<style scoped>\n",
       "    .dataframe tbody tr th:only-of-type {\n",
       "        vertical-align: middle;\n",
       "    }\n",
       "\n",
       "    .dataframe tbody tr th {\n",
       "        vertical-align: top;\n",
       "    }\n",
       "\n",
       "    .dataframe thead th {\n",
       "        text-align: right;\n",
       "    }\n",
       "</style>\n",
       "<table border=\"1\" class=\"dataframe\">\n",
       "  <thead>\n",
       "    <tr style=\"text-align: right;\">\n",
       "      <th></th>\n",
       "      <th>LUMINARIAS</th>\n",
       "      <th>COLETA URBANA</th>\n",
       "      <th>DRENAGEM</th>\n",
       "      <th>LIMPEZA URBANA</th>\n",
       "      <th>ARBORIZACAO</th>\n",
       "      <th>ILUMINACAO PUBLICA</th>\n",
       "      <th>FISCALIZACAO URBANA</th>\n",
       "    </tr>\n",
       "  </thead>\n",
       "  <tbody>\n",
       "    <tr>\n",
       "      <th>LUMINARIAS</th>\n",
       "      <td>0.000000</td>\n",
       "      <td>0.522926</td>\n",
       "      <td>0.725243</td>\n",
       "      <td>0.676017</td>\n",
       "      <td>0.754094</td>\n",
       "      <td>0.724183</td>\n",
       "      <td>0.681140</td>\n",
       "    </tr>\n",
       "    <tr>\n",
       "      <th>COLETA URBANA</th>\n",
       "      <td>0.522926</td>\n",
       "      <td>0.000000</td>\n",
       "      <td>0.685601</td>\n",
       "      <td>0.789209</td>\n",
       "      <td>0.622261</td>\n",
       "      <td>0.671388</td>\n",
       "      <td>0.622128</td>\n",
       "    </tr>\n",
       "    <tr>\n",
       "      <th>DRENAGEM</th>\n",
       "      <td>0.725243</td>\n",
       "      <td>0.685601</td>\n",
       "      <td>0.000000</td>\n",
       "      <td>0.814421</td>\n",
       "      <td>0.830478</td>\n",
       "      <td>0.835102</td>\n",
       "      <td>0.730295</td>\n",
       "    </tr>\n",
       "    <tr>\n",
       "      <th>LIMPEZA URBANA</th>\n",
       "      <td>0.676017</td>\n",
       "      <td>0.789209</td>\n",
       "      <td>0.814421</td>\n",
       "      <td>0.000000</td>\n",
       "      <td>0.757943</td>\n",
       "      <td>0.801561</td>\n",
       "      <td>0.760780</td>\n",
       "    </tr>\n",
       "    <tr>\n",
       "      <th>ARBORIZACAO</th>\n",
       "      <td>0.754094</td>\n",
       "      <td>0.622261</td>\n",
       "      <td>0.830478</td>\n",
       "      <td>0.757943</td>\n",
       "      <td>0.000000</td>\n",
       "      <td>0.828298</td>\n",
       "      <td>0.716829</td>\n",
       "    </tr>\n",
       "    <tr>\n",
       "      <th>ILUMINACAO PUBLICA</th>\n",
       "      <td>0.724183</td>\n",
       "      <td>0.671388</td>\n",
       "      <td>0.835102</td>\n",
       "      <td>0.801561</td>\n",
       "      <td>0.828298</td>\n",
       "      <td>0.000000</td>\n",
       "      <td>0.723038</td>\n",
       "    </tr>\n",
       "    <tr>\n",
       "      <th>FISCALIZACAO URBANA</th>\n",
       "      <td>0.681140</td>\n",
       "      <td>0.622128</td>\n",
       "      <td>0.730295</td>\n",
       "      <td>0.760780</td>\n",
       "      <td>0.716829</td>\n",
       "      <td>0.723038</td>\n",
       "      <td>0.000000</td>\n",
       "    </tr>\n",
       "  </tbody>\n",
       "</table>\n",
       "</div>"
      ],
      "text/plain": [
       "                     LUMINARIAS  COLETA URBANA  DRENAGEM  LIMPEZA URBANA  \\\n",
       "LUMINARIAS             0.000000       0.522926  0.725243        0.676017   \n",
       "COLETA URBANA          0.522926       0.000000  0.685601        0.789209   \n",
       "DRENAGEM               0.725243       0.685601  0.000000        0.814421   \n",
       "LIMPEZA URBANA         0.676017       0.789209  0.814421        0.000000   \n",
       "ARBORIZACAO            0.754094       0.622261  0.830478        0.757943   \n",
       "ILUMINACAO PUBLICA     0.724183       0.671388  0.835102        0.801561   \n",
       "FISCALIZACAO URBANA    0.681140       0.622128  0.730295        0.760780   \n",
       "\n",
       "                     ARBORIZACAO  ILUMINACAO PUBLICA  FISCALIZACAO URBANA  \n",
       "LUMINARIAS              0.754094            0.724183             0.681140  \n",
       "COLETA URBANA           0.622261            0.671388             0.622128  \n",
       "DRENAGEM                0.830478            0.835102             0.730295  \n",
       "LIMPEZA URBANA          0.757943            0.801561             0.760780  \n",
       "ARBORIZACAO             0.000000            0.828298             0.716829  \n",
       "ILUMINACAO PUBLICA      0.828298            0.000000             0.723038  \n",
       "FISCALIZACAO URBANA     0.716829            0.723038             0.000000  "
      ]
     },
     "metadata": {},
     "output_type": "display_data"
    },
    {
     "name": "stdout",
     "output_type": "stream",
     "text": [
      "\n",
      "\n",
      "Tabela de p-values associada:\n"
     ]
    },
    {
     "data": {
      "text/html": [
       "<div>\n",
       "<style scoped>\n",
       "    .dataframe tbody tr th:only-of-type {\n",
       "        vertical-align: middle;\n",
       "    }\n",
       "\n",
       "    .dataframe tbody tr th {\n",
       "        vertical-align: top;\n",
       "    }\n",
       "\n",
       "    .dataframe thead th {\n",
       "        text-align: right;\n",
       "    }\n",
       "</style>\n",
       "<table border=\"1\" class=\"dataframe\">\n",
       "  <thead>\n",
       "    <tr style=\"text-align: right;\">\n",
       "      <th></th>\n",
       "      <th>LUMINARIAS</th>\n",
       "      <th>COLETA URBANA</th>\n",
       "      <th>DRENAGEM</th>\n",
       "      <th>LIMPEZA URBANA</th>\n",
       "      <th>ARBORIZACAO</th>\n",
       "      <th>ILUMINACAO PUBLICA</th>\n",
       "      <th>FISCALIZACAO URBANA</th>\n",
       "    </tr>\n",
       "  </thead>\n",
       "  <tbody>\n",
       "    <tr>\n",
       "      <th>LUMINARIAS</th>\n",
       "      <td>0.000000e+00</td>\n",
       "      <td>8.433011e-176</td>\n",
       "      <td>0.0</td>\n",
       "      <td>0.0</td>\n",
       "      <td>0.000000e+00</td>\n",
       "      <td>0.0</td>\n",
       "      <td>0.000000e+00</td>\n",
       "    </tr>\n",
       "    <tr>\n",
       "      <th>COLETA URBANA</th>\n",
       "      <td>8.433011e-176</td>\n",
       "      <td>0.000000e+00</td>\n",
       "      <td>0.0</td>\n",
       "      <td>0.0</td>\n",
       "      <td>2.170268e-268</td>\n",
       "      <td>0.0</td>\n",
       "      <td>3.040655e-268</td>\n",
       "    </tr>\n",
       "    <tr>\n",
       "      <th>DRENAGEM</th>\n",
       "      <td>0.000000e+00</td>\n",
       "      <td>0.000000e+00</td>\n",
       "      <td>0.0</td>\n",
       "      <td>0.0</td>\n",
       "      <td>0.000000e+00</td>\n",
       "      <td>0.0</td>\n",
       "      <td>0.000000e+00</td>\n",
       "    </tr>\n",
       "    <tr>\n",
       "      <th>LIMPEZA URBANA</th>\n",
       "      <td>0.000000e+00</td>\n",
       "      <td>0.000000e+00</td>\n",
       "      <td>0.0</td>\n",
       "      <td>0.0</td>\n",
       "      <td>0.000000e+00</td>\n",
       "      <td>0.0</td>\n",
       "      <td>0.000000e+00</td>\n",
       "    </tr>\n",
       "    <tr>\n",
       "      <th>ARBORIZACAO</th>\n",
       "      <td>0.000000e+00</td>\n",
       "      <td>2.170268e-268</td>\n",
       "      <td>0.0</td>\n",
       "      <td>0.0</td>\n",
       "      <td>0.000000e+00</td>\n",
       "      <td>0.0</td>\n",
       "      <td>0.000000e+00</td>\n",
       "    </tr>\n",
       "    <tr>\n",
       "      <th>ILUMINACAO PUBLICA</th>\n",
       "      <td>0.000000e+00</td>\n",
       "      <td>0.000000e+00</td>\n",
       "      <td>0.0</td>\n",
       "      <td>0.0</td>\n",
       "      <td>0.000000e+00</td>\n",
       "      <td>0.0</td>\n",
       "      <td>0.000000e+00</td>\n",
       "    </tr>\n",
       "    <tr>\n",
       "      <th>FISCALIZACAO URBANA</th>\n",
       "      <td>0.000000e+00</td>\n",
       "      <td>3.040655e-268</td>\n",
       "      <td>0.0</td>\n",
       "      <td>0.0</td>\n",
       "      <td>0.000000e+00</td>\n",
       "      <td>0.0</td>\n",
       "      <td>0.000000e+00</td>\n",
       "    </tr>\n",
       "  </tbody>\n",
       "</table>\n",
       "</div>"
      ],
      "text/plain": [
       "                        LUMINARIAS  COLETA URBANA  DRENAGEM  LIMPEZA URBANA  \\\n",
       "LUMINARIAS            0.000000e+00  8.433011e-176       0.0             0.0   \n",
       "COLETA URBANA        8.433011e-176   0.000000e+00       0.0             0.0   \n",
       "DRENAGEM              0.000000e+00   0.000000e+00       0.0             0.0   \n",
       "LIMPEZA URBANA        0.000000e+00   0.000000e+00       0.0             0.0   \n",
       "ARBORIZACAO           0.000000e+00  2.170268e-268       0.0             0.0   \n",
       "ILUMINACAO PUBLICA    0.000000e+00   0.000000e+00       0.0             0.0   \n",
       "FISCALIZACAO URBANA   0.000000e+00  3.040655e-268       0.0             0.0   \n",
       "\n",
       "                       ARBORIZACAO  ILUMINACAO PUBLICA  FISCALIZACAO URBANA  \n",
       "LUMINARIAS            0.000000e+00                 0.0         0.000000e+00  \n",
       "COLETA URBANA        2.170268e-268                 0.0        3.040655e-268  \n",
       "DRENAGEM              0.000000e+00                 0.0         0.000000e+00  \n",
       "LIMPEZA URBANA        0.000000e+00                 0.0         0.000000e+00  \n",
       "ARBORIZACAO           0.000000e+00                 0.0         0.000000e+00  \n",
       "ILUMINACAO PUBLICA    0.000000e+00                 0.0         0.000000e+00  \n",
       "FISCALIZACAO URBANA   0.000000e+00                 0.0         0.000000e+00  "
      ]
     },
     "metadata": {},
     "output_type": "display_data"
    }
   ],
   "source": [
    "from scipy.stats import spearmanr\n",
    "\n",
    "corr_values = spearmanr(data_df)\n",
    "corr_df = pd.DataFrame(corr_values[0], columns=['INDICE'] + list(groups_df.columns))\n",
    "corr_df.index = corr_df.columns\n",
    "\n",
    "np.fill_diagonal(corr_df.values, 0)\n",
    "\n",
    "new_cols = []\n",
    "threshold = 0.7\n",
    "cols = corr_df.columns.values\n",
    "for i in range(cols.shape[0]):\n",
    "    for j in range(i, cols.shape[0]):\n",
    "        maximum = corr_df.iloc[i, j]\n",
    "        if maximum >= threshold:\n",
    "            new_cols.append(cols[i])\n",
    "\n",
    "new_cols = list(set(new_cols))\n",
    "data_corr = corr_df.loc[new_cols, new_cols]\n",
    "np.fill_diagonal(data_corr.values, 0)\n",
    "\n",
    "data_pvalue = pd.DataFrame(corr_values[1], columns=corr_df.columns)\n",
    "data_pvalue.index = corr_df.columns\n",
    "data_pvalue2 = data_pvalue.loc[new_cols, new_cols]\n",
    "\n",
    "print('Tabela de correlações Spearman entre os grupos de serviços:')\n",
    "display(data_corr)\n",
    "print('\\n\\nTabela de p-values associada:')\n",
    "display(data_pvalue2)"
   ]
  },
  {
   "cell_type": "code",
   "execution_count": 137,
   "metadata": {},
   "outputs": [
    {
     "data": {
      "text/plain": [
       "ARBORIZACAO           0.144089\n",
       "DRENAGEM              0.101666\n",
       "PAVIMENTACAO          0.056219\n",
       "ESCADARIA             0.054217\n",
       "MACRODRENAGEM         0.054047\n",
       "TERRAPLENAGEM         0.049965\n",
       "MANUT. URBANA         0.049766\n",
       "POSTE                 0.044220\n",
       "CALCADAS ARVORES      0.042654\n",
       "ILUMINACAO PUBLICA    0.040743\n",
       "Name: INDICE, dtype: float64"
      ]
     },
     "execution_count": 137,
     "metadata": {},
     "output_type": "execute_result"
    }
   ],
   "source": [
    "args = corr_df['INDICE'].sort_values(ascending=False)[:10]\n",
    "args"
   ]
  },
  {
   "cell_type": "code",
   "execution_count": 138,
   "metadata": {},
   "outputs": [
    {
     "data": {
      "text/plain": [
       "ARBORIZACAO           4.342639e-13\n",
       "DRENAGEM              3.431590e-07\n",
       "PAVIMENTACAO          4.892598e-03\n",
       "ESCADARIA             6.654960e-03\n",
       "MACRODRENAGEM         6.827429e-03\n",
       "TERRAPLENAGEM         1.239949e-02\n",
       "MANUT. URBANA         1.275289e-02\n",
       "POSTE                 2.691559e-02\n",
       "CALCADAS ARVORES      3.281650e-02\n",
       "ILUMINACAO PUBLICA    4.149092e-02\n",
       "Name: INDICE, dtype: float64"
      ]
     },
     "execution_count": 138,
     "metadata": {},
     "output_type": "execute_result"
    }
   ],
   "source": [
    "pvalues = data_pvalue['INDICE'][args.index]\n",
    "pvalues"
   ]
  },
  {
   "cell_type": "code",
   "execution_count": 140,
   "metadata": {},
   "outputs": [
    {
     "data": {
      "text/html": [
       "<div>\n",
       "<style scoped>\n",
       "    .dataframe tbody tr th:only-of-type {\n",
       "        vertical-align: middle;\n",
       "    }\n",
       "\n",
       "    .dataframe tbody tr th {\n",
       "        vertical-align: top;\n",
       "    }\n",
       "\n",
       "    .dataframe thead th {\n",
       "        text-align: right;\n",
       "    }\n",
       "</style>\n",
       "<table border=\"1\" class=\"dataframe\">\n",
       "  <thead>\n",
       "    <tr style=\"text-align: right;\">\n",
       "      <th></th>\n",
       "      <th>corr</th>\n",
       "      <th>pvalue</th>\n",
       "    </tr>\n",
       "  </thead>\n",
       "  <tbody>\n",
       "    <tr>\n",
       "      <th>ARBORIZACAO</th>\n",
       "      <td>0.144089</td>\n",
       "      <td>4.342639e-13</td>\n",
       "    </tr>\n",
       "    <tr>\n",
       "      <th>DRENAGEM</th>\n",
       "      <td>0.101666</td>\n",
       "      <td>3.431590e-07</td>\n",
       "    </tr>\n",
       "    <tr>\n",
       "      <th>PAVIMENTACAO</th>\n",
       "      <td>0.056219</td>\n",
       "      <td>4.892598e-03</td>\n",
       "    </tr>\n",
       "    <tr>\n",
       "      <th>ESCADARIA</th>\n",
       "      <td>0.054217</td>\n",
       "      <td>6.654960e-03</td>\n",
       "    </tr>\n",
       "    <tr>\n",
       "      <th>MACRODRENAGEM</th>\n",
       "      <td>0.054047</td>\n",
       "      <td>6.827429e-03</td>\n",
       "    </tr>\n",
       "    <tr>\n",
       "      <th>TERRAPLENAGEM</th>\n",
       "      <td>0.049965</td>\n",
       "      <td>1.239949e-02</td>\n",
       "    </tr>\n",
       "    <tr>\n",
       "      <th>MANUT. URBANA</th>\n",
       "      <td>0.049766</td>\n",
       "      <td>1.275289e-02</td>\n",
       "    </tr>\n",
       "    <tr>\n",
       "      <th>POSTE</th>\n",
       "      <td>0.044220</td>\n",
       "      <td>2.691559e-02</td>\n",
       "    </tr>\n",
       "    <tr>\n",
       "      <th>CALCADAS ARVORES</th>\n",
       "      <td>0.042654</td>\n",
       "      <td>3.281650e-02</td>\n",
       "    </tr>\n",
       "    <tr>\n",
       "      <th>ILUMINACAO PUBLICA</th>\n",
       "      <td>0.040743</td>\n",
       "      <td>4.149092e-02</td>\n",
       "    </tr>\n",
       "  </tbody>\n",
       "</table>\n",
       "</div>"
      ],
      "text/plain": [
       "                        corr        pvalue\n",
       "ARBORIZACAO         0.144089  4.342639e-13\n",
       "DRENAGEM            0.101666  3.431590e-07\n",
       "PAVIMENTACAO        0.056219  4.892598e-03\n",
       "ESCADARIA           0.054217  6.654960e-03\n",
       "MACRODRENAGEM       0.054047  6.827429e-03\n",
       "TERRAPLENAGEM       0.049965  1.239949e-02\n",
       "MANUT. URBANA       0.049766  1.275289e-02\n",
       "POSTE               0.044220  2.691559e-02\n",
       "CALCADAS ARVORES    0.042654  3.281650e-02\n",
       "ILUMINACAO PUBLICA  0.040743  4.149092e-02"
      ]
     },
     "execution_count": 140,
     "metadata": {},
     "output_type": "execute_result"
    }
   ],
   "source": [
    "pd.DataFrame({'corr': args.values, 'pvalue':pvalues})"
   ]
  },
  {
   "cell_type": "markdown",
   "metadata": {},
   "source": [
    "## Análise dos dados pluviométrico com relação aos serviços"
   ]
  },
  {
   "cell_type": "code",
   "execution_count": 125,
   "metadata": {},
   "outputs": [],
   "source": [
    "df_156.columns = ['GRUPOSERVICO_CODIGO', 'GRUPOSERVICO_DESCRICAO', 'SERVICO_CODIGO', 'SERVICO_DESCRICAO', 'LOGRADOURO', 'NUMERO', 'BAIRRO', 'RPA', 'DATA', 'SITUACAO', 'DATA_ULT_SITUACAO', 'ANO']\n",
    "merged_df = pd.merge(left=df_156, right=df_plu, on='DATA')\n",
    "groups_df = pd.get_dummies(merged_df['SERVICO_DESCRICAO'])\n",
    "concat_df = pd.concat([merged_df, groups_df], axis=1)\n",
    "final_df = concat_df[['DATA', 'INDICE'] + list(groups_df.columns)].groupby('DATA')\n",
    "data_df = pd.concat([final_df['INDICE'].mean(), final_df[groups_df.columns].sum()], axis=1)"
   ]
  },
  {
   "cell_type": "code",
   "execution_count": 88,
   "metadata": {},
   "outputs": [
    {
     "name": "stdout",
     "output_type": "stream",
     "text": [
      "Tabela de correlações Pearson entre os serviços:\n"
     ]
    },
    {
     "data": {
      "text/html": [
       "<div>\n",
       "<style scoped>\n",
       "    .dataframe tbody tr th:only-of-type {\n",
       "        vertical-align: middle;\n",
       "    }\n",
       "\n",
       "    .dataframe tbody tr th {\n",
       "        vertical-align: top;\n",
       "    }\n",
       "\n",
       "    .dataframe thead th {\n",
       "        text-align: right;\n",
       "    }\n",
       "</style>\n",
       "<table border=\"1\" class=\"dataframe\">\n",
       "  <thead>\n",
       "    <tr style=\"text-align: right;\">\n",
       "      <th></th>\n",
       "      <th>CAPINACAO EM LOGRADOUROS</th>\n",
       "      <th>VELORIO POPULAR</th>\n",
       "      <th>SEPULT.EM COVA ADULTO</th>\n",
       "      <th>MANUT. EM LAMPADA APAGADA</th>\n",
       "      <th>SEPULT.EM JASIDUO</th>\n",
       "    </tr>\n",
       "  </thead>\n",
       "  <tbody>\n",
       "    <tr>\n",
       "      <th>CAPINACAO EM LOGRADOUROS</th>\n",
       "      <td>0.000000</td>\n",
       "      <td>0.144050</td>\n",
       "      <td>0.140187</td>\n",
       "      <td>0.807819</td>\n",
       "      <td>0.119828</td>\n",
       "    </tr>\n",
       "    <tr>\n",
       "      <th>VELORIO POPULAR</th>\n",
       "      <td>0.144050</td>\n",
       "      <td>0.000000</td>\n",
       "      <td>0.938892</td>\n",
       "      <td>0.228168</td>\n",
       "      <td>0.586454</td>\n",
       "    </tr>\n",
       "    <tr>\n",
       "      <th>SEPULT.EM COVA ADULTO</th>\n",
       "      <td>0.140187</td>\n",
       "      <td>0.938892</td>\n",
       "      <td>0.000000</td>\n",
       "      <td>0.210657</td>\n",
       "      <td>0.576395</td>\n",
       "    </tr>\n",
       "    <tr>\n",
       "      <th>MANUT. EM LAMPADA APAGADA</th>\n",
       "      <td>0.807819</td>\n",
       "      <td>0.228168</td>\n",
       "      <td>0.210657</td>\n",
       "      <td>0.000000</td>\n",
       "      <td>0.193418</td>\n",
       "    </tr>\n",
       "    <tr>\n",
       "      <th>SEPULT.EM JASIDUO</th>\n",
       "      <td>0.119828</td>\n",
       "      <td>0.586454</td>\n",
       "      <td>0.576395</td>\n",
       "      <td>0.193418</td>\n",
       "      <td>0.000000</td>\n",
       "    </tr>\n",
       "  </tbody>\n",
       "</table>\n",
       "</div>"
      ],
      "text/plain": [
       "                           CAPINACAO EM LOGRADOUROS  VELORIO POPULAR  \\\n",
       "CAPINACAO EM LOGRADOUROS                   0.000000         0.144050   \n",
       "VELORIO POPULAR                            0.144050         0.000000   \n",
       "SEPULT.EM COVA ADULTO                      0.140187         0.938892   \n",
       "MANUT. EM LAMPADA APAGADA                  0.807819         0.228168   \n",
       "SEPULT.EM JASIDUO                          0.119828         0.586454   \n",
       "\n",
       "                           SEPULT.EM COVA ADULTO  MANUT. EM LAMPADA APAGADA  \\\n",
       "CAPINACAO EM LOGRADOUROS                0.140187                   0.807819   \n",
       "VELORIO POPULAR                         0.938892                   0.228168   \n",
       "SEPULT.EM COVA ADULTO                   0.000000                   0.210657   \n",
       "MANUT. EM LAMPADA APAGADA               0.210657                   0.000000   \n",
       "SEPULT.EM JASIDUO                       0.576395                   0.193418   \n",
       "\n",
       "                           SEPULT.EM JASIDUO  \n",
       "CAPINACAO EM LOGRADOUROS            0.119828  \n",
       "VELORIO POPULAR                     0.586454  \n",
       "SEPULT.EM COVA ADULTO               0.576395  \n",
       "MANUT. EM LAMPADA APAGADA           0.193418  \n",
       "SEPULT.EM JASIDUO                   0.000000  "
      ]
     },
     "metadata": {},
     "output_type": "display_data"
    }
   ],
   "source": [
    "corr_df = data_df.corr()\n",
    "\n",
    "np.fill_diagonal(corr_df.values, 0)\n",
    "\n",
    "new_cols = []\n",
    "threshold = 0.7\n",
    "cols = corr_df.columns.values\n",
    "for i in range(cols.shape[0]):\n",
    "    for j in range(i, cols.shape[0]):\n",
    "        maximum = corr_df.iloc[i, j]\n",
    "        if maximum >= threshold:\n",
    "            new_cols.append(cols[i])\n",
    "\n",
    "new_cols = list(set(new_cols))\n",
    "data_corr = corr_df.loc[new_cols, new_cols]\n",
    "np.fill_diagonal(data_corr.values, 0)\n",
    "\n",
    "print('Tabela de correlações Pearson entre os serviços:')\n",
    "display(data_corr)"
   ]
  },
  {
   "cell_type": "code",
   "execution_count": 89,
   "metadata": {},
   "outputs": [
    {
     "data": {
      "text/plain": [
       "QUEDA DE ARVORE                            0.217138\n",
       "ERRADICACAO DE ARVORES                     0.132633\n",
       "LIMP. DE GALERIAS,VALETAS,SARJETAS         0.109020\n",
       "LIMPEZA DE CANALETAS                       0.108533\n",
       "RECUPERACAO DE PAVIMENTO PARALELEPIPEDO    0.082306\n",
       "LIMPEZA DE CANAL                           0.081049\n",
       "VISTORIA DE ARVORES                        0.067434\n",
       "REPOSICAO DESL. E RET. DE POSTE            0.066421\n",
       "RECUP.DE CANALETAS DE DRENAGEM             0.059129\n",
       "REMOCAO DE AREIA OU BARRO DE ENXURRADA     0.057319\n",
       "Name: INDICE, dtype: float64"
      ]
     },
     "execution_count": 89,
     "metadata": {},
     "output_type": "execute_result"
    }
   ],
   "source": [
    "corr_df['INDICE'].sort_values(ascending=False)[:10]"
   ]
  },
  {
   "cell_type": "code",
   "execution_count": 90,
   "metadata": {},
   "outputs": [
    {
     "data": {
      "text/plain": [
       "<seaborn.axisgrid.PairGrid at 0x1a249c7dd8>"
      ]
     },
     "execution_count": 90,
     "metadata": {},
     "output_type": "execute_result"
    },
    {
     "data": {
      "image/png": "[encoded data removed]",
      "text/plain": [
       "<Figure size 900x900 with 30 Axes>"
      ]
     },
     "metadata": {
      "needs_background": "light"
     },
     "output_type": "display_data"
    }
   ],
   "source": [
    "sns.pairplot(data_df[new_cols], plot_kws={\"s\": 10})"
   ]
  },
  {
   "cell_type": "code",
   "execution_count": 126,
   "metadata": {},
   "outputs": [
    {
     "name": "stdout",
     "output_type": "stream",
     "text": [
      "Tabela de correlações Spearman entre os grupos de serviços:\n"
     ]
    },
    {
     "data": {
      "text/html": [
       "<div>\n",
       "<style scoped>\n",
       "    .dataframe tbody tr th:only-of-type {\n",
       "        vertical-align: middle;\n",
       "    }\n",
       "\n",
       "    .dataframe tbody tr th {\n",
       "        vertical-align: top;\n",
       "    }\n",
       "\n",
       "    .dataframe thead th {\n",
       "        text-align: right;\n",
       "    }\n",
       "</style>\n",
       "<table border=\"1\" class=\"dataframe\">\n",
       "  <thead>\n",
       "    <tr style=\"text-align: right;\">\n",
       "      <th></th>\n",
       "      <th>CAPINACAO EM LOGRADOUROS</th>\n",
       "      <th>VELORIO POPULAR</th>\n",
       "      <th>SEPULT.EM COVA ADULTO</th>\n",
       "      <th>MANUT. EM LAMPADA APAGADA</th>\n",
       "      <th>SEPULT.EM JASIDUO</th>\n",
       "    </tr>\n",
       "  </thead>\n",
       "  <tbody>\n",
       "    <tr>\n",
       "      <th>CAPINACAO EM LOGRADOUROS</th>\n",
       "      <td>0.000000</td>\n",
       "      <td>0.277267</td>\n",
       "      <td>0.291550</td>\n",
       "      <td>0.930586</td>\n",
       "      <td>0.236862</td>\n",
       "    </tr>\n",
       "    <tr>\n",
       "      <th>VELORIO POPULAR</th>\n",
       "      <td>0.277267</td>\n",
       "      <td>0.000000</td>\n",
       "      <td>0.963747</td>\n",
       "      <td>0.303432</td>\n",
       "      <td>0.704701</td>\n",
       "    </tr>\n",
       "    <tr>\n",
       "      <th>SEPULT.EM COVA ADULTO</th>\n",
       "      <td>0.291550</td>\n",
       "      <td>0.963747</td>\n",
       "      <td>0.000000</td>\n",
       "      <td>0.315600</td>\n",
       "      <td>0.768820</td>\n",
       "    </tr>\n",
       "    <tr>\n",
       "      <th>MANUT. EM LAMPADA APAGADA</th>\n",
       "      <td>0.930586</td>\n",
       "      <td>0.303432</td>\n",
       "      <td>0.315600</td>\n",
       "      <td>0.000000</td>\n",
       "      <td>0.254500</td>\n",
       "    </tr>\n",
       "    <tr>\n",
       "      <th>SEPULT.EM JASIDUO</th>\n",
       "      <td>0.236862</td>\n",
       "      <td>0.704701</td>\n",
       "      <td>0.768820</td>\n",
       "      <td>0.254500</td>\n",
       "      <td>0.000000</td>\n",
       "    </tr>\n",
       "  </tbody>\n",
       "</table>\n",
       "</div>"
      ],
      "text/plain": [
       "                           CAPINACAO EM LOGRADOUROS  VELORIO POPULAR  \\\n",
       "CAPINACAO EM LOGRADOUROS                   0.000000         0.277267   \n",
       "VELORIO POPULAR                            0.277267         0.000000   \n",
       "SEPULT.EM COVA ADULTO                      0.291550         0.963747   \n",
       "MANUT. EM LAMPADA APAGADA                  0.930586         0.303432   \n",
       "SEPULT.EM JASIDUO                          0.236862         0.704701   \n",
       "\n",
       "                           SEPULT.EM COVA ADULTO  MANUT. EM LAMPADA APAGADA  \\\n",
       "CAPINACAO EM LOGRADOUROS                0.291550                   0.930586   \n",
       "VELORIO POPULAR                         0.963747                   0.303432   \n",
       "SEPULT.EM COVA ADULTO                   0.000000                   0.315600   \n",
       "MANUT. EM LAMPADA APAGADA               0.315600                   0.000000   \n",
       "SEPULT.EM JASIDUO                       0.768820                   0.254500   \n",
       "\n",
       "                           SEPULT.EM JASIDUO  \n",
       "CAPINACAO EM LOGRADOUROS            0.236862  \n",
       "VELORIO POPULAR                     0.704701  \n",
       "SEPULT.EM COVA ADULTO               0.768820  \n",
       "MANUT. EM LAMPADA APAGADA           0.254500  \n",
       "SEPULT.EM JASIDUO                   0.000000  "
      ]
     },
     "metadata": {},
     "output_type": "display_data"
    },
    {
     "name": "stdout",
     "output_type": "stream",
     "text": [
      "\n",
      "\n",
      "Tabela de p-values associada:\n"
     ]
    },
    {
     "data": {
      "text/html": [
       "<div>\n",
       "<style scoped>\n",
       "    .dataframe tbody tr th:only-of-type {\n",
       "        vertical-align: middle;\n",
       "    }\n",
       "\n",
       "    .dataframe tbody tr th {\n",
       "        vertical-align: top;\n",
       "    }\n",
       "\n",
       "    .dataframe thead th {\n",
       "        text-align: right;\n",
       "    }\n",
       "</style>\n",
       "<table border=\"1\" class=\"dataframe\">\n",
       "  <thead>\n",
       "    <tr style=\"text-align: right;\">\n",
       "      <th></th>\n",
       "      <th>CAPINACAO EM LOGRADOUROS</th>\n",
       "      <th>VELORIO POPULAR</th>\n",
       "      <th>SEPULT.EM COVA ADULTO</th>\n",
       "      <th>MANUT. EM LAMPADA APAGADA</th>\n",
       "      <th>SEPULT.EM JASIDUO</th>\n",
       "    </tr>\n",
       "  </thead>\n",
       "  <tbody>\n",
       "    <tr>\n",
       "      <th>CAPINACAO EM LOGRADOUROS</th>\n",
       "      <td>0.000000e+00</td>\n",
       "      <td>1.984524e-45</td>\n",
       "      <td>2.972187e-50</td>\n",
       "      <td>0.000000e+00</td>\n",
       "      <td>2.855735e-33</td>\n",
       "    </tr>\n",
       "    <tr>\n",
       "      <th>VELORIO POPULAR</th>\n",
       "      <td>1.984524e-45</td>\n",
       "      <td>0.000000e+00</td>\n",
       "      <td>0.000000e+00</td>\n",
       "      <td>1.745497e-54</td>\n",
       "      <td>0.000000e+00</td>\n",
       "    </tr>\n",
       "    <tr>\n",
       "      <th>SEPULT.EM COVA ADULTO</th>\n",
       "      <td>2.972187e-50</td>\n",
       "      <td>0.000000e+00</td>\n",
       "      <td>0.000000e+00</td>\n",
       "      <td>4.998047e-59</td>\n",
       "      <td>0.000000e+00</td>\n",
       "    </tr>\n",
       "    <tr>\n",
       "      <th>MANUT. EM LAMPADA APAGADA</th>\n",
       "      <td>0.000000e+00</td>\n",
       "      <td>1.745497e-54</td>\n",
       "      <td>4.998047e-59</td>\n",
       "      <td>0.000000e+00</td>\n",
       "      <td>2.590545e-38</td>\n",
       "    </tr>\n",
       "    <tr>\n",
       "      <th>SEPULT.EM JASIDUO</th>\n",
       "      <td>2.855735e-33</td>\n",
       "      <td>0.000000e+00</td>\n",
       "      <td>0.000000e+00</td>\n",
       "      <td>2.590545e-38</td>\n",
       "      <td>0.000000e+00</td>\n",
       "    </tr>\n",
       "  </tbody>\n",
       "</table>\n",
       "</div>"
      ],
      "text/plain": [
       "                           CAPINACAO EM LOGRADOUROS  VELORIO POPULAR  \\\n",
       "CAPINACAO EM LOGRADOUROS               0.000000e+00     1.984524e-45   \n",
       "VELORIO POPULAR                        1.984524e-45     0.000000e+00   \n",
       "SEPULT.EM COVA ADULTO                  2.972187e-50     0.000000e+00   \n",
       "MANUT. EM LAMPADA APAGADA              0.000000e+00     1.745497e-54   \n",
       "SEPULT.EM JASIDUO                      2.855735e-33     0.000000e+00   \n",
       "\n",
       "                           SEPULT.EM COVA ADULTO  MANUT. EM LAMPADA APAGADA  \\\n",
       "CAPINACAO EM LOGRADOUROS            2.972187e-50               0.000000e+00   \n",
       "VELORIO POPULAR                     0.000000e+00               1.745497e-54   \n",
       "SEPULT.EM COVA ADULTO               0.000000e+00               4.998047e-59   \n",
       "MANUT. EM LAMPADA APAGADA           4.998047e-59               0.000000e+00   \n",
       "SEPULT.EM JASIDUO                   0.000000e+00               2.590545e-38   \n",
       "\n",
       "                           SEPULT.EM JASIDUO  \n",
       "CAPINACAO EM LOGRADOUROS        2.855735e-33  \n",
       "VELORIO POPULAR                 0.000000e+00  \n",
       "SEPULT.EM COVA ADULTO           0.000000e+00  \n",
       "MANUT. EM LAMPADA APAGADA       2.590545e-38  \n",
       "SEPULT.EM JASIDUO               0.000000e+00  "
      ]
     },
     "metadata": {},
     "output_type": "display_data"
    }
   ],
   "source": [
    "from scipy.stats import spearmanr\n",
    "\n",
    "corr_values = spearmanr(data_df)\n",
    "corr_df = pd.DataFrame(corr_values[0], columns=['INDICE'] + list(groups_df.columns))\n",
    "corr_df.index = corr_df.columns\n",
    "\n",
    "np.fill_diagonal(corr_df.values, 0)\n",
    "\n",
    "new_cols = []\n",
    "threshold = 0.8\n",
    "cols = corr_df.columns.values\n",
    "for i in range(cols.shape[0]):\n",
    "    for j in range(i, cols.shape[0]):\n",
    "        maximum = corr_df.iloc[i, j]\n",
    "        if maximum >= threshold:\n",
    "            new_cols.append(cols[i])\n",
    "\n",
    "new_cols = list(set(new_cols))\n",
    "data_corr = corr_df.loc[new_cols, new_cols]\n",
    "np.fill_diagonal(data_corr.values, 0)\n",
    "\n",
    "data_pvalue = pd.DataFrame(corr_values[1], columns=corr_df.columns)\n",
    "data_pvalue.index = corr_df.columns\n",
    "data_pvalue2 = data_pvalue.loc[new_cols, new_cols]\n",
    "\n",
    "print('Tabela de correlações Spearman entre os grupos de serviços:')\n",
    "display(data_corr)\n",
    "print('\\n\\nTabela de p-values associada:')\n",
    "display(data_pvalue2)"
   ]
  },
  {
   "cell_type": "code",
   "execution_count": 127,
   "metadata": {},
   "outputs": [
    {
     "data": {
      "text/plain": [
       "QUEDA DE ARVORE                            0.269340\n",
       "RECUPERACAO DE PAVIMENTO PARALELEPIPEDO    0.123583\n",
       "LIMP. DE GALERIAS,VALETAS,SARJETAS         0.119274\n",
       "ERRADICACAO DE ARVORES                     0.116589\n",
       "VISTORIA DE ARVORES                        0.115231\n",
       "LIMPEZA DE CANALETAS                       0.078939\n",
       "RECUP.DE CANALETAS DE DRENAGEM             0.075086\n",
       "RECUP. DE ABATIMENTO GALERIA               0.073238\n",
       "REPOSICAO DESL. E RET. DE POSTE            0.071965\n",
       "REBAIXAMENTO COPAS DE ARVORES              0.069751\n",
       "Name: INDICE, dtype: float64"
      ]
     },
     "execution_count": 127,
     "metadata": {},
     "output_type": "execute_result"
    }
   ],
   "source": [
    "args = corr_df['INDICE'].sort_values(ascending=False)[:10]\n",
    "args"
   ]
  },
  {
   "cell_type": "code",
   "execution_count": 128,
   "metadata": {},
   "outputs": [
    {
     "data": {
      "text/plain": [
       "QUEDA DE ARVORE                            7.148800e-43\n",
       "RECUPERACAO DE PAVIMENTO PARALELEPIPEDO    5.477141e-10\n",
       "LIMP. DE GALERIAS,VALETAS,SARJETAS         2.139068e-09\n",
       "ERRADICACAO DE ARVORES                     4.882190e-09\n",
       "VISTORIA DE ARVORES                        7.357812e-09\n",
       "LIMPEZA DE CANALETAS                       7.675837e-05\n",
       "RECUP.DE CANALETAS DE DRENAGEM             1.694248e-04\n",
       "RECUP. DE ABATIMENTO GALERIA               2.445284e-04\n",
       "REPOSICAO DESL. E RET. DE POSTE            3.133254e-04\n",
       "REBAIXAMENTO COPAS DE ARVORES              4.779349e-04\n",
       "Name: INDICE, dtype: float64"
      ]
     },
     "execution_count": 128,
     "metadata": {},
     "output_type": "execute_result"
    }
   ],
   "source": [
    "pvalues = data_pvalue['INDICE'][args.index]\n",
    "pvalues"
   ]
  },
  {
   "cell_type": "code",
   "execution_count": 130,
   "metadata": {},
   "outputs": [],
   "source": [
    "pd.DataFrame({'corr': args.values, 'pvalue':pvalues}).to_csv('../../corr_indice_spearman_types.csv')"
   ]
  },
  {
   "cell_type": "code",
   "execution_count": null,
   "metadata": {},
   "outputs": [],
   "source": []
  }
 ],
 "metadata": {
  "kernelspec": {
   "display_name": "Python 3",
   "language": "python",
   "name": "python3"
  },
  "language_info": {
   "codemirror_mode": {
    "name": "ipython",
    "version": 3
   },
   "file_extension": ".py",
   "mimetype": "text/x-python",
   "name": "python",
   "nbconvert_exporter": "python",
   "pygments_lexer": "ipython3",
   "version": "3.6.6"
  }
 },
 "nbformat": 4,
 "nbformat_minor": 2
}
