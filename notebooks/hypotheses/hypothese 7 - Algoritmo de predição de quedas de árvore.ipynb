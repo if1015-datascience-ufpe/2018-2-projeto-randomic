{
 "cells": [
  {
   "cell_type": "code",
   "execution_count": 89,
   "metadata": {},
   "outputs": [],
   "source": [
    "import sklearn as skl\n",
    "import pandas as pd\n",
    "import numpy as np\n",
    "\n",
    "%matplotlib inline"
   ]
  },
  {
   "cell_type": "code",
   "execution_count": 90,
   "metadata": {},
   "outputs": [],
   "source": [
    "df_156 = pd.read_hdf('../../data/processed/solicitacoes156.h5', key='data', format=\"table\")\n",
    "df_plu = pd.read_hdf('../../data/processed/pluviometrico.h5', key='data', format=\"table\")"
   ]
  },
  {
   "cell_type": "code",
   "execution_count": 91,
   "metadata": {},
   "outputs": [],
   "source": [
    "filtered_df = df_156[df_156['SERVICO_DESCRICAO'] == 'QUEDA DE ARVORE']\n",
    "group_df = filtered_df.groupby('DATA_DEMANDA')[['SERVICO_CODIGO']]\n",
    "count_df = group_df.count().reset_index()\n",
    "count_df.columns = ['DATA', 'QUEDAS']\n",
    "df = df_plu.merge(count_df, on='DATA')"
   ]
  },
  {
   "cell_type": "code",
   "execution_count": 92,
   "metadata": {},
   "outputs": [],
   "source": [
    "month_df = pd.get_dummies(df['DATA'].dt.month)\n",
    "month_df.columns = ['m' + str(i) for i in range(1, 13)]\n",
    "\n",
    "day_df = pd.get_dummies(df['DATA'].dt.day)\n",
    "day_df.columns = ['d' + str(i) for i in range(1, 32)]\n",
    "\n",
    "df = pd.concat([day_df, month_df, df[['INDICE', 'QUEDAS']]], axis=1)"
   ]
  },
  {
   "cell_type": "code",
   "execution_count": 93,
   "metadata": {},
   "outputs": [],
   "source": [
    "from sklearn.neighbors import KNeighborsRegressor\n",
    "skl.utils.shuffle(df)\n",
    "\n",
    "split = int(df.shape[0] * 0.7)\n",
    "train, test = df.iloc[:split,:], df.iloc[split:,:]\n",
    "\n",
    "clf = KNeighborsRegressor(\n",
    "    weights='distance',\n",
    "    n_neighbors=5)"
   ]
  },
  {
   "cell_type": "code",
   "execution_count": 100,
   "metadata": {},
   "outputs": [
    {
     "data": {
      "text/plain": [
       "KNeighborsRegressor(algorithm='auto', leaf_size=30, metric='minkowski',\n",
       "          metric_params=None, n_jobs=None, n_neighbors=5, p=2,\n",
       "          weights='distance')"
      ]
     },
     "execution_count": 100,
     "metadata": {},
     "output_type": "execute_result"
    }
   ],
   "source": [
    "clf.fit(train.iloc[:,:-1], train.iloc[:,-1])"
   ]
  },
  {
   "cell_type": "code",
   "execution_count": 101,
   "metadata": {
    "scrolled": true
   },
   "outputs": [
    {
     "data": {
      "text/plain": [
       "-0.013196116581627448"
      ]
     },
     "execution_count": 101,
     "metadata": {},
     "output_type": "execute_result"
    }
   ],
   "source": [
    "clf.score(test.iloc[:,:-1], test.iloc[:,-1])"
   ]
  },
  {
   "cell_type": "code",
   "execution_count": 102,
   "metadata": {},
   "outputs": [
    {
     "data": {
      "text/plain": [
       "1.89753285953115"
      ]
     },
     "execution_count": 102,
     "metadata": {},
     "output_type": "execute_result"
    }
   ],
   "source": [
    "skl.metrics.mean_absolute_error(clf.predict(test.iloc[:,:-1]), test.iloc[:,-1])"
   ]
  },
  {
   "cell_type": "code",
   "execution_count": 97,
   "metadata": {},
   "outputs": [],
   "source": [
    "import statsmodels.api as sm\n",
    "import statsmodels.formula.api as smf"
   ]
  },
  {
   "cell_type": "code",
   "execution_count": 98,
   "metadata": {},
   "outputs": [],
   "source": [
    "formula = 'QUEDAS ~ d1 + d2 + d3 + d4 + d5 + d6 + d7 + d8 + d9 + d10 + d11 + d12 + d13 + d14 + d15 + d16 + d17 + d18 + d19 + d20 + d21 + d22 + d23 + d24 + d25 + d26 + d27 + d28 + d29 + d30 + d31 + m1 + m2 + m3 + m4 + m5 + m6 + m7 + m8 + m9 + m10 + m11 + m12 + INDICE'"
   ]
  },
  {
   "cell_type": "code",
   "execution_count": 99,
   "metadata": {},
   "outputs": [
    {
     "data": {
      "text/html": [
       "<table class=\"simpletable\">\n",
       "<caption>OLS Regression Results</caption>\n",
       "<tr>\n",
       "  <th>Dep. Variable:</th>         <td>QUEDAS</td>      <th>  R-squared:         </th> <td>   0.068</td>\n",
       "</tr>\n",
       "<tr>\n",
       "  <th>Model:</th>                   <td>OLS</td>       <th>  Adj. R-squared:    </th> <td>   0.035</td>\n",
       "</tr>\n",
       "<tr>\n",
       "  <th>Method:</th>             <td>Least Squares</td>  <th>  F-statistic:       </th> <td>   2.051</td>\n",
       "</tr>\n",
       "<tr>\n",
       "  <th>Date:</th>             <td>Thu, 29 Nov 2018</td> <th>  Prob (F-statistic):</th> <td>0.000109</td>\n",
       "</tr>\n",
       "<tr>\n",
       "  <th>Time:</th>                 <td>03:52:52</td>     <th>  Log-Likelihood:    </th> <td> -3809.5</td>\n",
       "</tr>\n",
       "<tr>\n",
       "  <th>No. Observations:</th>      <td>  1229</td>      <th>  AIC:               </th> <td>   7705.</td>\n",
       "</tr>\n",
       "<tr>\n",
       "  <th>Df Residuals:</th>          <td>  1186</td>      <th>  BIC:               </th> <td>   7925.</td>\n",
       "</tr>\n",
       "<tr>\n",
       "  <th>Df Model:</th>              <td>    42</td>      <th>                     </th>     <td> </td>   \n",
       "</tr>\n",
       "<tr>\n",
       "  <th>Covariance Type:</th>      <td>nonrobust</td>    <th>                     </th>     <td> </td>   \n",
       "</tr>\n",
       "</table>\n",
       "<table class=\"simpletable\">\n",
       "<tr>\n",
       "      <td></td>         <th>coef</th>     <th>std err</th>      <th>t</th>      <th>P>|t|</th>  <th>[0.025</th>    <th>0.975]</th>  \n",
       "</tr>\n",
       "<tr>\n",
       "  <th>Intercept</th> <td>    1.6596</td> <td>    0.161</td> <td>   10.340</td> <td> 0.000</td> <td>    1.345</td> <td>    1.974</td>\n",
       "</tr>\n",
       "<tr>\n",
       "  <th>d1</th>        <td>    0.1556</td> <td>    0.999</td> <td>    0.156</td> <td> 0.876</td> <td>   -1.805</td> <td>    2.116</td>\n",
       "</tr>\n",
       "<tr>\n",
       "  <th>d2</th>        <td>   -0.1384</td> <td>    0.797</td> <td>   -0.174</td> <td> 0.862</td> <td>   -1.702</td> <td>    1.425</td>\n",
       "</tr>\n",
       "<tr>\n",
       "  <th>d3</th>        <td>   -0.2523</td> <td>    0.874</td> <td>   -0.289</td> <td> 0.773</td> <td>   -1.966</td> <td>    1.462</td>\n",
       "</tr>\n",
       "<tr>\n",
       "  <th>d4</th>        <td>    0.6704</td> <td>    0.863</td> <td>    0.777</td> <td> 0.437</td> <td>   -1.023</td> <td>    2.364</td>\n",
       "</tr>\n",
       "<tr>\n",
       "  <th>d5</th>        <td>    0.2124</td> <td>    0.842</td> <td>    0.252</td> <td> 0.801</td> <td>   -1.440</td> <td>    1.865</td>\n",
       "</tr>\n",
       "<tr>\n",
       "  <th>d6</th>        <td>   -0.3905</td> <td>    0.814</td> <td>   -0.480</td> <td> 0.632</td> <td>   -1.988</td> <td>    1.207</td>\n",
       "</tr>\n",
       "<tr>\n",
       "  <th>d7</th>        <td>    0.0504</td> <td>    0.875</td> <td>    0.058</td> <td> 0.954</td> <td>   -1.667</td> <td>    1.767</td>\n",
       "</tr>\n",
       "<tr>\n",
       "  <th>d8</th>        <td>   -0.0476</td> <td>    0.885</td> <td>   -0.054</td> <td> 0.957</td> <td>   -1.784</td> <td>    1.689</td>\n",
       "</tr>\n",
       "<tr>\n",
       "  <th>d9</th>        <td>    0.2627</td> <td>    0.780</td> <td>    0.337</td> <td> 0.736</td> <td>   -1.268</td> <td>    1.793</td>\n",
       "</tr>\n",
       "<tr>\n",
       "  <th>d10</th>       <td>   -0.3946</td> <td>    0.841</td> <td>   -0.469</td> <td> 0.639</td> <td>   -2.045</td> <td>    1.256</td>\n",
       "</tr>\n",
       "<tr>\n",
       "  <th>d11</th>       <td>   -0.0545</td> <td>    0.806</td> <td>   -0.068</td> <td> 0.946</td> <td>   -1.637</td> <td>    1.528</td>\n",
       "</tr>\n",
       "<tr>\n",
       "  <th>d12</th>       <td>    0.0738</td> <td>    0.898</td> <td>    0.082</td> <td> 0.934</td> <td>   -1.687</td> <td>    1.835</td>\n",
       "</tr>\n",
       "<tr>\n",
       "  <th>d13</th>       <td>    0.7934</td> <td>    0.843</td> <td>    0.941</td> <td> 0.347</td> <td>   -0.860</td> <td>    2.447</td>\n",
       "</tr>\n",
       "<tr>\n",
       "  <th>d14</th>       <td>   -0.2781</td> <td>    0.951</td> <td>   -0.292</td> <td> 0.770</td> <td>   -2.144</td> <td>    1.588</td>\n",
       "</tr>\n",
       "<tr>\n",
       "  <th>d15</th>       <td>   -0.2599</td> <td>    0.875</td> <td>   -0.297</td> <td> 0.766</td> <td>   -1.976</td> <td>    1.456</td>\n",
       "</tr>\n",
       "<tr>\n",
       "  <th>d16</th>       <td>    0.1446</td> <td>    0.910</td> <td>    0.159</td> <td> 0.874</td> <td>   -1.641</td> <td>    1.930</td>\n",
       "</tr>\n",
       "<tr>\n",
       "  <th>d17</th>       <td>    0.3780</td> <td>    0.833</td> <td>    0.454</td> <td> 0.650</td> <td>   -1.256</td> <td>    2.012</td>\n",
       "</tr>\n",
       "<tr>\n",
       "  <th>d18</th>       <td>   -0.0929</td> <td>    0.832</td> <td>   -0.112</td> <td> 0.911</td> <td>   -1.725</td> <td>    1.539</td>\n",
       "</tr>\n",
       "<tr>\n",
       "  <th>d19</th>       <td>   -0.0149</td> <td>    0.966</td> <td>   -0.015</td> <td> 0.988</td> <td>   -1.911</td> <td>    1.881</td>\n",
       "</tr>\n",
       "<tr>\n",
       "  <th>d20</th>       <td>   -0.4314</td> <td>    0.780</td> <td>   -0.553</td> <td> 0.580</td> <td>   -1.962</td> <td>    1.099</td>\n",
       "</tr>\n",
       "<tr>\n",
       "  <th>d21</th>       <td>   -0.2250</td> <td>    0.876</td> <td>   -0.257</td> <td> 0.797</td> <td>   -1.943</td> <td>    1.493</td>\n",
       "</tr>\n",
       "<tr>\n",
       "  <th>d22</th>       <td>   -0.3667</td> <td>    0.833</td> <td>   -0.440</td> <td> 0.660</td> <td>   -2.001</td> <td>    1.268</td>\n",
       "</tr>\n",
       "<tr>\n",
       "  <th>d23</th>       <td>   -0.5110</td> <td>    0.842</td> <td>   -0.607</td> <td> 0.544</td> <td>   -2.164</td> <td>    1.142</td>\n",
       "</tr>\n",
       "<tr>\n",
       "  <th>d24</th>       <td>   -0.5358</td> <td>    0.833</td> <td>   -0.643</td> <td> 0.520</td> <td>   -2.170</td> <td>    1.098</td>\n",
       "</tr>\n",
       "<tr>\n",
       "  <th>d25</th>       <td>   -0.7010</td> <td>    0.822</td> <td>   -0.853</td> <td> 0.394</td> <td>   -2.314</td> <td>    0.912</td>\n",
       "</tr>\n",
       "<tr>\n",
       "  <th>d26</th>       <td>   -0.2451</td> <td>    0.833</td> <td>   -0.294</td> <td> 0.769</td> <td>   -1.879</td> <td>    1.388</td>\n",
       "</tr>\n",
       "<tr>\n",
       "  <th>d27</th>       <td>   -0.4956</td> <td>    0.816</td> <td>   -0.608</td> <td> 0.544</td> <td>   -2.096</td> <td>    1.105</td>\n",
       "</tr>\n",
       "<tr>\n",
       "  <th>d28</th>       <td>   -0.4997</td> <td>    0.898</td> <td>   -0.557</td> <td> 0.578</td> <td>   -2.261</td> <td>    1.262</td>\n",
       "</tr>\n",
       "<tr>\n",
       "  <th>d29</th>       <td>    3.7221</td> <td>    0.845</td> <td>    4.403</td> <td> 0.000</td> <td>    2.063</td> <td>    5.381</td>\n",
       "</tr>\n",
       "<tr>\n",
       "  <th>d30</th>       <td>    1.4890</td> <td>    0.827</td> <td>    1.800</td> <td> 0.072</td> <td>   -0.134</td> <td>    3.112</td>\n",
       "</tr>\n",
       "<tr>\n",
       "  <th>d31</th>       <td>   -0.3580</td> <td>    1.058</td> <td>   -0.338</td> <td> 0.735</td> <td>   -2.433</td> <td>    1.717</td>\n",
       "</tr>\n",
       "<tr>\n",
       "  <th>m1</th>        <td>    2.2845</td> <td>    0.516</td> <td>    4.427</td> <td> 0.000</td> <td>    1.272</td> <td>    3.297</td>\n",
       "</tr>\n",
       "<tr>\n",
       "  <th>m2</th>        <td>    0.2506</td> <td>    0.509</td> <td>    0.492</td> <td> 0.623</td> <td>   -0.749</td> <td>    1.250</td>\n",
       "</tr>\n",
       "<tr>\n",
       "  <th>m3</th>        <td>    0.2257</td> <td>    0.468</td> <td>    0.482</td> <td> 0.630</td> <td>   -0.693</td> <td>    1.144</td>\n",
       "</tr>\n",
       "<tr>\n",
       "  <th>m4</th>        <td>    0.3915</td> <td>    0.487</td> <td>    0.804</td> <td> 0.421</td> <td>   -0.564</td> <td>    1.347</td>\n",
       "</tr>\n",
       "<tr>\n",
       "  <th>m5</th>        <td>   -0.3146</td> <td>    0.483</td> <td>   -0.651</td> <td> 0.515</td> <td>   -1.263</td> <td>    0.634</td>\n",
       "</tr>\n",
       "<tr>\n",
       "  <th>m6</th>        <td>    0.1759</td> <td>    0.490</td> <td>    0.359</td> <td> 0.720</td> <td>   -0.786</td> <td>    1.138</td>\n",
       "</tr>\n",
       "<tr>\n",
       "  <th>m7</th>        <td>    0.3717</td> <td>    0.474</td> <td>    0.783</td> <td> 0.434</td> <td>   -0.559</td> <td>    1.302</td>\n",
       "</tr>\n",
       "<tr>\n",
       "  <th>m8</th>        <td>   -0.4035</td> <td>    0.533</td> <td>   -0.756</td> <td> 0.450</td> <td>   -1.450</td> <td>    0.643</td>\n",
       "</tr>\n",
       "<tr>\n",
       "  <th>m9</th>        <td>   -0.3794</td> <td>    0.612</td> <td>   -0.620</td> <td> 0.535</td> <td>   -1.579</td> <td>    0.821</td>\n",
       "</tr>\n",
       "<tr>\n",
       "  <th>m10</th>       <td>   -0.5165</td> <td>    0.597</td> <td>   -0.865</td> <td> 0.387</td> <td>   -1.688</td> <td>    0.655</td>\n",
       "</tr>\n",
       "<tr>\n",
       "  <th>m11</th>       <td>   -0.5076</td> <td>    0.643</td> <td>   -0.789</td> <td> 0.430</td> <td>   -1.769</td> <td>    0.754</td>\n",
       "</tr>\n",
       "<tr>\n",
       "  <th>m12</th>       <td>    0.0812</td> <td>    0.594</td> <td>    0.137</td> <td> 0.891</td> <td>   -1.084</td> <td>    1.246</td>\n",
       "</tr>\n",
       "<tr>\n",
       "  <th>INDICE</th>    <td>    0.0060</td> <td>    0.001</td> <td>    5.422</td> <td> 0.000</td> <td>    0.004</td> <td>    0.008</td>\n",
       "</tr>\n",
       "</table>\n",
       "<table class=\"simpletable\">\n",
       "<tr>\n",
       "  <th>Omnibus:</th>       <td>2854.308</td> <th>  Durbin-Watson:     </th>   <td>   2.056</td>  \n",
       "</tr>\n",
       "<tr>\n",
       "  <th>Prob(Omnibus):</th>  <td> 0.000</td>  <th>  Jarque-Bera (JB):  </th> <td>17207065.874</td>\n",
       "</tr>\n",
       "<tr>\n",
       "  <th>Skew:</th>           <td>21.418</td>  <th>  Prob(JB):          </th>   <td>    0.00</td>  \n",
       "</tr>\n",
       "<tr>\n",
       "  <th>Kurtosis:</th>       <td>581.088</td> <th>  Cond. No.          </th>   <td>1.20e+17</td>  \n",
       "</tr>\n",
       "</table><br/><br/>Warnings:<br/>[1] Standard Errors assume that the covariance matrix of the errors is correctly specified.<br/>[2] The smallest eigenvalue is 2.43e-27. This might indicate that there are<br/>strong multicollinearity problems or that the design matrix is singular."
      ],
      "text/plain": [
       "<class 'statsmodels.iolib.summary.Summary'>\n",
       "\"\"\"\n",
       "                            OLS Regression Results                            \n",
       "==============================================================================\n",
       "Dep. Variable:                 QUEDAS   R-squared:                       0.068\n",
       "Model:                            OLS   Adj. R-squared:                  0.035\n",
       "Method:                 Least Squares   F-statistic:                     2.051\n",
       "Date:                Thu, 29 Nov 2018   Prob (F-statistic):           0.000109\n",
       "Time:                        03:52:52   Log-Likelihood:                -3809.5\n",
       "No. Observations:                1229   AIC:                             7705.\n",
       "Df Residuals:                    1186   BIC:                             7925.\n",
       "Df Model:                          42                                         \n",
       "Covariance Type:            nonrobust                                         \n",
       "==============================================================================\n",
       "                 coef    std err          t      P>|t|      [0.025      0.975]\n",
       "------------------------------------------------------------------------------\n",
       "Intercept      1.6596      0.161     10.340      0.000       1.345       1.974\n",
       "d1             0.1556      0.999      0.156      0.876      -1.805       2.116\n",
       "d2            -0.1384      0.797     -0.174      0.862      -1.702       1.425\n",
       "d3            -0.2523      0.874     -0.289      0.773      -1.966       1.462\n",
       "d4             0.6704      0.863      0.777      0.437      -1.023       2.364\n",
       "d5             0.2124      0.842      0.252      0.801      -1.440       1.865\n",
       "d6            -0.3905      0.814     -0.480      0.632      -1.988       1.207\n",
       "d7             0.0504      0.875      0.058      0.954      -1.667       1.767\n",
       "d8            -0.0476      0.885     -0.054      0.957      -1.784       1.689\n",
       "d9             0.2627      0.780      0.337      0.736      -1.268       1.793\n",
       "d10           -0.3946      0.841     -0.469      0.639      -2.045       1.256\n",
       "d11           -0.0545      0.806     -0.068      0.946      -1.637       1.528\n",
       "d12            0.0738      0.898      0.082      0.934      -1.687       1.835\n",
       "d13            0.7934      0.843      0.941      0.347      -0.860       2.447\n",
       "d14           -0.2781      0.951     -0.292      0.770      -2.144       1.588\n",
       "d15           -0.2599      0.875     -0.297      0.766      -1.976       1.456\n",
       "d16            0.1446      0.910      0.159      0.874      -1.641       1.930\n",
       "d17            0.3780      0.833      0.454      0.650      -1.256       2.012\n",
       "d18           -0.0929      0.832     -0.112      0.911      -1.725       1.539\n",
       "d19           -0.0149      0.966     -0.015      0.988      -1.911       1.881\n",
       "d20           -0.4314      0.780     -0.553      0.580      -1.962       1.099\n",
       "d21           -0.2250      0.876     -0.257      0.797      -1.943       1.493\n",
       "d22           -0.3667      0.833     -0.440      0.660      -2.001       1.268\n",
       "d23           -0.5110      0.842     -0.607      0.544      -2.164       1.142\n",
       "d24           -0.5358      0.833     -0.643      0.520      -2.170       1.098\n",
       "d25           -0.7010      0.822     -0.853      0.394      -2.314       0.912\n",
       "d26           -0.2451      0.833     -0.294      0.769      -1.879       1.388\n",
       "d27           -0.4956      0.816     -0.608      0.544      -2.096       1.105\n",
       "d28           -0.4997      0.898     -0.557      0.578      -2.261       1.262\n",
       "d29            3.7221      0.845      4.403      0.000       2.063       5.381\n",
       "d30            1.4890      0.827      1.800      0.072      -0.134       3.112\n",
       "d31           -0.3580      1.058     -0.338      0.735      -2.433       1.717\n",
       "m1             2.2845      0.516      4.427      0.000       1.272       3.297\n",
       "m2             0.2506      0.509      0.492      0.623      -0.749       1.250\n",
       "m3             0.2257      0.468      0.482      0.630      -0.693       1.144\n",
       "m4             0.3915      0.487      0.804      0.421      -0.564       1.347\n",
       "m5            -0.3146      0.483     -0.651      0.515      -1.263       0.634\n",
       "m6             0.1759      0.490      0.359      0.720      -0.786       1.138\n",
       "m7             0.3717      0.474      0.783      0.434      -0.559       1.302\n",
       "m8            -0.4035      0.533     -0.756      0.450      -1.450       0.643\n",
       "m9            -0.3794      0.612     -0.620      0.535      -1.579       0.821\n",
       "m10           -0.5165      0.597     -0.865      0.387      -1.688       0.655\n",
       "m11           -0.5076      0.643     -0.789      0.430      -1.769       0.754\n",
       "m12            0.0812      0.594      0.137      0.891      -1.084       1.246\n",
       "INDICE         0.0060      0.001      5.422      0.000       0.004       0.008\n",
       "==============================================================================\n",
       "Omnibus:                     2854.308   Durbin-Watson:                   2.056\n",
       "Prob(Omnibus):                  0.000   Jarque-Bera (JB):         17207065.874\n",
       "Skew:                          21.418   Prob(JB):                         0.00\n",
       "Kurtosis:                     581.088   Cond. No.                     1.20e+17\n",
       "==============================================================================\n",
       "\n",
       "Warnings:\n",
       "[1] Standard Errors assume that the covariance matrix of the errors is correctly specified.\n",
       "[2] The smallest eigenvalue is 2.43e-27. This might indicate that there are\n",
       "strong multicollinearity problems or that the design matrix is singular.\n",
       "\"\"\""
      ]
     },
     "execution_count": 99,
     "metadata": {},
     "output_type": "execute_result"
    }
   ],
   "source": [
    "model = smf.ols(formula,data=df)\n",
    "model.fit().summary()"
   ]
  },
  {
   "cell_type": "code",
   "execution_count": null,
   "metadata": {},
   "outputs": [],
   "source": []
  }
 ],
 "metadata": {
  "kernelspec": {
   "display_name": "Python 3",
   "language": "python",
   "name": "python3"
  },
  "language_info": {
   "codemirror_mode": {
    "name": "ipython",
    "version": 3
   },
   "file_extension": ".py",
   "mimetype": "text/x-python",
   "name": "python",
   "nbconvert_exporter": "python",
   "pygments_lexer": "ipython3",
   "version": "3.6.6"
  }
 },
 "nbformat": 4,
 "nbformat_minor": 2
}
