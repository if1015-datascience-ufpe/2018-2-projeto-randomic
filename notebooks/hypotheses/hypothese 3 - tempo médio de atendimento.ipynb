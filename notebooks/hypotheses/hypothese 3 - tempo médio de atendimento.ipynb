{
 "cells": [
  {
   "cell_type": "markdown",
   "metadata": {},
   "source": [
    "## Qual o tempo médio de atendimento por tipo de solicitação requisitada?\n",
    "\n",
    "Para analisarmos esse questionamento, iremos retirar o tempo respectivo a diferença entre a _Data da demanda_ e a _Data da ultima situação_, por fim podemos realizar o agrupamento dos intervalos por pela _descrição do serviço_, obtendo ao final a média dos intervalos de tempo para cada tipo requisitado."
   ]
  },
  {
   "cell_type": "markdown",
   "metadata": {},
   "source": [
    "### Importando bibliotecas"
   ]
  },
  {
   "cell_type": "code",
   "execution_count": 11,
   "metadata": {},
   "outputs": [],
   "source": [
    "import pandas as pd"
   ]
  },
  {
   "cell_type": "markdown",
   "metadata": {},
   "source": [
    "### Carregando arquivo de análise (dados das solicitações)"
   ]
  },
  {
   "cell_type": "code",
   "execution_count": 13,
   "metadata": {},
   "outputs": [
    {
     "data": {
      "text/html": [
       "<div>\n",
       "<style scoped>\n",
       "    .dataframe tbody tr th:only-of-type {\n",
       "        vertical-align: middle;\n",
       "    }\n",
       "\n",
       "    .dataframe tbody tr th {\n",
       "        vertical-align: top;\n",
       "    }\n",
       "\n",
       "    .dataframe thead th {\n",
       "        text-align: right;\n",
       "    }\n",
       "</style>\n",
       "<table border=\"1\" class=\"dataframe\">\n",
       "  <thead>\n",
       "    <tr style=\"text-align: right;\">\n",
       "      <th></th>\n",
       "      <th>GRUPOSERVICO_CODIGO</th>\n",
       "      <th>GRUPOSERVICO_DESCRICAO</th>\n",
       "      <th>SERVICO_CODIGO</th>\n",
       "      <th>SERVICO_DESCRICAO</th>\n",
       "      <th>LOGRADOURO</th>\n",
       "      <th>NUMERO</th>\n",
       "      <th>BAIRRO</th>\n",
       "      <th>RPA</th>\n",
       "      <th>DATA_DEMANDA</th>\n",
       "      <th>SITUACAO</th>\n",
       "      <th>DATA_ULT_SITUACAO</th>\n",
       "      <th>ANO</th>\n",
       "    </tr>\n",
       "  </thead>\n",
       "  <tbody>\n",
       "    <tr>\n",
       "      <th>0</th>\n",
       "      <td>2</td>\n",
       "      <td>CONSERVACAO</td>\n",
       "      <td>1</td>\n",
       "      <td>REMOCAO ANIMAIS MORTOS PEQUENOS</td>\n",
       "      <td>1TR  PIRIZAL</td>\n",
       "      <td>3587</td>\n",
       "      <td>VASCO DA GAMA</td>\n",
       "      <td>3</td>\n",
       "      <td>2012-05-03</td>\n",
       "      <td>ATENDIDA</td>\n",
       "      <td>2012-05-03</td>\n",
       "      <td>2012</td>\n",
       "    </tr>\n",
       "    <tr>\n",
       "      <th>1</th>\n",
       "      <td>2</td>\n",
       "      <td>CONSERVACAO</td>\n",
       "      <td>1</td>\n",
       "      <td>REMOCAO ANIMAIS MORTOS PEQUENOS</td>\n",
       "      <td>1TR  SEBASTIAO GRANDE</td>\n",
       "      <td>3587</td>\n",
       "      <td>AREIAS</td>\n",
       "      <td>5</td>\n",
       "      <td>2012-05-10</td>\n",
       "      <td>ATENDIDA</td>\n",
       "      <td>2012-05-10</td>\n",
       "      <td>2012</td>\n",
       "    </tr>\n",
       "    <tr>\n",
       "      <th>2</th>\n",
       "      <td>2</td>\n",
       "      <td>CONSERVACAO</td>\n",
       "      <td>1</td>\n",
       "      <td>REMOCAO ANIMAIS MORTOS PEQUENOS</td>\n",
       "      <td>AV  ANTONIO DE GOES</td>\n",
       "      <td>3578</td>\n",
       "      <td>PINA</td>\n",
       "      <td>6</td>\n",
       "      <td>2012-05-11</td>\n",
       "      <td>ATENDIDA</td>\n",
       "      <td>2012-05-11</td>\n",
       "      <td>2012</td>\n",
       "    </tr>\n",
       "    <tr>\n",
       "      <th>3</th>\n",
       "      <td>2</td>\n",
       "      <td>CONSERVACAO</td>\n",
       "      <td>1</td>\n",
       "      <td>REMOCAO ANIMAIS MORTOS PEQUENOS</td>\n",
       "      <td>AV  BEBERIBE</td>\n",
       "      <td>00</td>\n",
       "      <td>AGUA FRIA</td>\n",
       "      <td>2</td>\n",
       "      <td>2012-09-12</td>\n",
       "      <td>ATENDIDA</td>\n",
       "      <td>2012-09-12</td>\n",
       "      <td>2012</td>\n",
       "    </tr>\n",
       "    <tr>\n",
       "      <th>4</th>\n",
       "      <td>2</td>\n",
       "      <td>CONSERVACAO</td>\n",
       "      <td>1</td>\n",
       "      <td>REMOCAO ANIMAIS MORTOS PEQUENOS</td>\n",
       "      <td>AV  BEIRA RIO</td>\n",
       "      <td>00</td>\n",
       "      <td>MADALENA</td>\n",
       "      <td>4</td>\n",
       "      <td>2012-08-10</td>\n",
       "      <td>ATENDIDA</td>\n",
       "      <td>2012-08-10</td>\n",
       "      <td>2012</td>\n",
       "    </tr>\n",
       "  </tbody>\n",
       "</table>\n",
       "</div>"
      ],
      "text/plain": [
       "  GRUPOSERVICO_CODIGO GRUPOSERVICO_DESCRICAO SERVICO_CODIGO  \\\n",
       "0                   2            CONSERVACAO              1   \n",
       "1                   2            CONSERVACAO              1   \n",
       "2                   2            CONSERVACAO              1   \n",
       "3                   2            CONSERVACAO              1   \n",
       "4                   2            CONSERVACAO              1   \n",
       "\n",
       "                 SERVICO_DESCRICAO             LOGRADOURO NUMERO  \\\n",
       "0  REMOCAO ANIMAIS MORTOS PEQUENOS           1TR  PIRIZAL   3587   \n",
       "1  REMOCAO ANIMAIS MORTOS PEQUENOS  1TR  SEBASTIAO GRANDE   3587   \n",
       "2  REMOCAO ANIMAIS MORTOS PEQUENOS    AV  ANTONIO DE GOES   3578   \n",
       "3  REMOCAO ANIMAIS MORTOS PEQUENOS           AV  BEBERIBE     00   \n",
       "4  REMOCAO ANIMAIS MORTOS PEQUENOS          AV  BEIRA RIO     00   \n",
       "\n",
       "          BAIRRO RPA DATA_DEMANDA  SITUACAO DATA_ULT_SITUACAO   ANO  \n",
       "0  VASCO DA GAMA   3   2012-05-03  ATENDIDA        2012-05-03  2012  \n",
       "1         AREIAS   5   2012-05-10  ATENDIDA        2012-05-10  2012  \n",
       "2           PINA   6   2012-05-11  ATENDIDA        2012-05-11  2012  \n",
       "3      AGUA FRIA   2   2012-09-12  ATENDIDA        2012-09-12  2012  \n",
       "4       MADALENA   4   2012-08-10  ATENDIDA        2012-08-10  2012  "
      ]
     },
     "execution_count": 13,
     "metadata": {},
     "output_type": "execute_result"
    }
   ],
   "source": [
    "df = pd.read_hdf('../../data/processed/solicitacoes156.h5', key='data', format=\"table\")\n",
    "df.head()"
   ]
  },
  {
   "cell_type": "markdown",
   "metadata": {},
   "source": [
    "### Processando intervalos de tempo e agrupamento de dados"
   ]
  },
  {
   "cell_type": "code",
   "execution_count": 21,
   "metadata": {},
   "outputs": [],
   "source": [
    "df['INTERVALO'] = df['DATA_ULT_SITUACAO'] - df['DATA_DEMANDA']\n",
    "df['INTERVALO'] = df['INTERVALO'].apply(lambda x: x.days)\n",
    "group_df = df.groupby('SERVICO_DESCRICAO')['INTERVALO'].mean()"
   ]
  },
  {
   "cell_type": "markdown",
   "metadata": {},
   "source": [
    "### Visualização de dados"
   ]
  },
  {
   "cell_type": "code",
   "execution_count": 22,
   "metadata": {},
   "outputs": [
    {
     "data": {
      "text/plain": [
       "SERVICO_DESCRICAO\n",
       "ACAO EDUC. E INFORMATIVA                                13.246753\n",
       "ACENDER CIRCUITO                                         2.712603\n",
       "APAGAR CIRCUITO                                          3.624000\n",
       "APAGAR LAMPADA                                           3.877972\n",
       "AVAL. INST. DE CESTAS DE LIXO                           17.200000\n",
       "CAPINACAO DE PRACAS AREAS VERD                         105.000000\n",
       "CAPINACAO EM LOGRADOUROS                                30.149276\n",
       "CAPINAÃÃO EM VIA PAVIMENTADA                          24.768730\n",
       "COBRANCAS E TAXAS IRREGULARES                            0.000000\n",
       "COLETA COMPUTADORES                                     10.000000\n",
       "COLETA HOSPITALAR IRREGULAR                             19.000000\n",
       "COLETA IRREGULAR DE LIXO                                 4.353043\n",
       "CONSERTO DE CALCADAS E MUROS                             5.339286\n",
       "CORTE DE RAIZES DE ARVORES                             160.250000\n",
       "DANO CAUSADO COLETA LIXO                                43.255814\n",
       "DANO CAUSADO COLETA/LIXO                                51.444444\n",
       "DENUNCIAS EMLURB                                        50.596413\n",
       "DOACAO DE COLETA SELETIVA                                2.714286\n",
       "ELABORACAO DE PROJETOS                                  49.000000\n",
       "ERRADICACAO DE ARVORES                                  94.834840\n",
       "ERRADICAÃÃO DE ARVORES                               134.157143\n",
       "EXUMAÃÃO                                               0.000000\n",
       "FURTO EM TÃMULOS                                       42.500000\n",
       "IDENTIF.PROPIETARIO TERRENO                             71.875000\n",
       "IMP. COLETA SELETIVA                                     8.444444\n",
       "IMPLANTACAO DE LUMINARIAS                              162.179739\n",
       "IMPLANTACAO DE PEV                                      10.142857\n",
       "IMPLANTACAO DE POSTE                                    61.511111\n",
       "IMPLANTACAO DE VAO DE REDE                              27.000000\n",
       "IMPLANTACAO DE VARRICAO                                 14.231884\n",
       "                                                          ...    \n",
       "REGULARIZAR COLETA DOMICILIAR                            4.097679\n",
       "REMOCAO ANIMAIS MORTOS PEQUENOS                          0.201238\n",
       "REMOCAO DE ANIMAIS MORTOS DE GRANDE PORTE                0.146032\n",
       "REMOCAO DE AREIA OU BARRO DE ENXURRADA                   6.673469\n",
       "REMOCAO DE ENTULHOS                                      4.467869\n",
       "REMOCAO DE METRALHA OU BARRO                             6.258204\n",
       "REMOCAO DE PODA DO CIDADAO                               3.938195\n",
       "REMOCAO MECANIZADA                                       6.539615\n",
       "REMOÃÃO DE ANIMAIS MORTOS DE GRANDE PORTE              0.357143\n",
       "REMOÃÃO DE ANIMAIS MORTOS PEQUENOS                     0.125000\n",
       "REMOÃÃO DE ENTULHOS                                    6.397015\n",
       "REMOÃÃO DE PONTO CRITICO                              28.159350\n",
       "REPOS.TAMPA POCO, GALER E PRE-MOLDADOS                  73.648442\n",
       "REPOSICAO DE LUMINARIA                                   4.000000\n",
       "REPOSICAO DESL. E RET. DE POSTE                         47.000000\n",
       "REPOSICAO VAO DE REDE                                   43.564935\n",
       "REPOSIÃÃO TAMPA DE POÃO, GALERIAS E PRE-MOLDADOS    116.150442\n",
       "RETIRADA DE MATERIAIS - SERVICOS                        41.227848\n",
       "SEPULT.EM COVA ADULTO                                    0.000000\n",
       "SEPULT.EM COVA INFANTIL                                  0.000000\n",
       "SEPULT.EM GAVETA ADULTO                                  0.000000\n",
       "SEPULT.EM JASIDUO                                        0.000000\n",
       "TAPA BURACO ASFALTO                                     15.797814\n",
       "TAPA BURACO PARALELO                                    29.551020\n",
       "TERRAPLANAGEM DE RUAS                                   64.706935\n",
       "TRATAMENTO FITOSSANITARIO                               33.097561\n",
       "TUMULO DE FAMILIA                                        0.000000\n",
       "VELORIO POPULAR                                          0.000000\n",
       "VELORIO PRINCIPAL                                        0.000000\n",
       "VISTORIA DE ARVORES                                     87.589041\n",
       "Name: INTERVALO, Length: 121, dtype: float64"
      ]
     },
     "execution_count": 22,
     "metadata": {},
     "output_type": "execute_result"
    }
   ],
   "source": [
    "group_df"
   ]
  },
  {
   "cell_type": "code",
   "execution_count": null,
   "metadata": {},
   "outputs": [],
   "source": []
  }
 ],
 "metadata": {
  "kernelspec": {
   "display_name": "Python 3",
   "language": "python",
   "name": "python3"
  },
  "language_info": {
   "codemirror_mode": {
    "name": "ipython",
    "version": 3
   },
   "file_extension": ".py",
   "mimetype": "text/x-python",
   "name": "python",
   "nbconvert_exporter": "python",
   "pygments_lexer": "ipython3",
   "version": "3.6.6"
  }
 },
 "nbformat": 4,
 "nbformat_minor": 2
}
