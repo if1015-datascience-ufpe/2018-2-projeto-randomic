{
 "cells": [
  {
   "cell_type": "markdown",
   "metadata": {},
   "source": [
    "## Importando bibliotecas"
   ]
  },
  {
   "cell_type": "code",
   "execution_count": 7,
   "metadata": {},
   "outputs": [],
   "source": [
    "from bs4 import BeautifulSoup\n",
    "import pandas as pd\n",
    "import requests\n",
    "import json"
   ]
  },
  {
   "cell_type": "markdown",
   "metadata": {},
   "source": [
    "## Coletando dados de eventos e feriados\n",
    "\n",
    "Site para coleta: http://www.calendario.com.br"
   ]
  },
  {
   "cell_type": "markdown",
   "metadata": {},
   "source": [
    "### Descrição da API\n",
    "\n",
    "Você pode utilizar nossa api através do link abaixo, substituindo o ANO, ESTADO e CIDADE, pelos desejados:<br>\n",
    "https://api.calendario.com.br/?ano=2017&estado=SP&cidade=SAO_PAULO&token=YnV2ZUBrdWxtZW8uY29tJmhhc2g9Nzg2MDA1NTg \n",
    "\n",
    "Pode também utilizar o Código IBGE da cidade desejada: <br>https://api.calendario.com.br/?ano=2017&ibge=3550308&token=YnV2ZUBrdWxtZW8uY29tJmhhc2g9Nzg2MDA1NTg\n",
    "\n",
    "Você receberá um resultado em XML, semelhante a esta imagem: <br>http://www.calendario.com.br/figs/xml_sample.png \n",
    "\n",
    "Se preferir o resultado em JSON, basta incluir o parametro json=true na URL: <br>https://api.calendario.com.br/?json=true&ano=2017&ibge=3550308&token=YnV2ZUBrdWxtZW8uY29tJmhhc2g9Nzg2MDA1NTg \n",
    "\n",
    "Para acessar a lista de cidades do Banco de Dados, utilize esse link: <br>http://www.calendario.com.br/api/cities.json \n",
    "\n",
    "Veja mais informações nesta página: <br>http://www.calendario.com.br/dev/api_feriados_municipais_estaduais_nacionais.php"
   ]
  },
  {
   "cell_type": "code",
   "execution_count": 8,
   "metadata": {},
   "outputs": [],
   "source": [
    "calendar = []\n",
    "for year in range(2012, 2019):\n",
    "    link =  'https://api.calendario.com.br/?'\n",
    "    link += 'json=true'\n",
    "    link += '&ano=' + str(year)\n",
    "    link += '&estado=PE'\n",
    "    link += '&cidade=RECIFE'\n",
    "    link += '&token=YnV2ZUBrdWxtZW8uY29tJmhhc2g9Nzg2MDA1NTg'\n",
    "    \n",
    "    data = requests.get(link)\n",
    "    calendar.extend(json.loads(data.content))\n",
    "\n",
    "df = pd.DataFrame(calendar)\n",
    "df.to_csv('../data/raw/calendario.csv', sep=';', index=False)"
   ]
  },
  {
   "cell_type": "markdown",
   "metadata": {},
   "source": [
    "## Coletando dados pluviométricos da APAC"
   ]
  },
  {
   "cell_type": "code",
   "execution_count": 9,
   "metadata": {},
   "outputs": [],
   "source": [
    "with open('../data/raw/Monitoramento_APAC.html', encoding='latin') as fl:\n",
    "    table = fl.read()\n",
    "df = pd.read_html(table, encoding='latin', header=0, index_col=0, na_values='-')[0]\n",
    "df.to_csv('../data/raw/pluviometrico.csv', sep=';', index=False)"
   ]
  }
 ],
 "metadata": {
  "kernelspec": {
   "display_name": "Python 3",
   "language": "python",
   "name": "python3"
  },
  "language_info": {
   "codemirror_mode": {
    "name": "ipython",
    "version": 3
   },
   "file_extension": ".py",
   "mimetype": "text/x-python",
   "name": "python",
   "nbconvert_exporter": "python",
   "pygments_lexer": "ipython3",
   "version": "3.6.6"
  }
 },
 "nbformat": 4,
 "nbformat_minor": 2
}
