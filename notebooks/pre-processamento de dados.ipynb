{
 "cells": [
  {
   "cell_type": "markdown",
   "metadata": {},
   "source": [
    "## Importando bibliotecas"
   ]
  },
  {
   "cell_type": "code",
   "execution_count": 1,
   "metadata": {},
   "outputs": [],
   "source": [
    "import pandas as pd"
   ]
  },
  {
   "cell_type": "markdown",
   "metadata": {},
   "source": [
    "## Processando dataset socioeconômico"
   ]
  },
  {
   "cell_type": "code",
   "execution_count": 10,
   "metadata": {},
   "outputs": [
    {
     "data": {
      "text/plain": [
       "BAIRRO                    object\n",
       "RPA                        int64\n",
       "MICROREGIAO              float64\n",
       "DIST_MARCO_ZERO          float64\n",
       "HECTARES                 float64\n",
       "HABITANTES                 int64\n",
       "NUM_HOMENS                 int64\n",
       "POR_HOMENS               float64\n",
       "NUM_MULHERES               int64\n",
       "POR_MULHERES             float64\n",
       "0_4ANOS                    int64\n",
       "0_4ANOS%                 float64\n",
       "5_14ANOS                   int64\n",
       "5_14ANOS%                float64\n",
       "15_17ANOS                  int64\n",
       "15_17ANOS%               float64\n",
       "18_24ANOS                  int64\n",
       "18_24ANOS%               float64\n",
       "25_59ANOS                  int64\n",
       "25_59ANOS%               float64\n",
       "60_ANOS                    int64\n",
       "60_ANOS%                 float64\n",
       "BRANCA                   float64\n",
       "PRETA                    float64\n",
       "PARDA                    float64\n",
       "AMARELA                  float64\n",
       "INDIGENA                 float64\n",
       "ALFABETIZADOS            float64\n",
       "CRESCIMENTO_ANUAL        float64\n",
       "DENSIDADE                float64\n",
       "DOMICILIOS                 int64\n",
       "MEDIA_MORADORES          float64\n",
       "MULHERES_RESPONSAVEIS    float64\n",
       "RENDA                    float64\n",
       "dtype: object"
      ]
     },
     "execution_count": 10,
     "metadata": {},
     "output_type": "execute_result"
    }
   ],
   "source": [
    "df = pd.read_csv('../data/raw/socioeconomico.csv', sep=';')\n",
    "df.dtypes"
   ]
  },
  {
   "cell_type": "markdown",
   "metadata": {},
   "source": [
    "## Processando dataset de calendário"
   ]
  },
  {
   "cell_type": "code",
   "execution_count": 56,
   "metadata": {},
   "outputs": [
    {
     "name": "stdout",
     "output_type": "stream",
     "text": [
      "DATA           datetime64[ns]\n",
      "NOME                   object\n",
      "TIPO                   object\n",
      "CODIGO_TIPO             int64\n",
      "dtype: object\n"
     ]
    }
   ],
   "source": [
    "df = pd.read_csv('../data/raw/calendario.csv', sep=';')\n",
    "df = df.drop(['description', 'raw_description', 'link'], axis=1)\n",
    "df.columns = ['DATA', 'NOME', 'TIPO', 'CODIGO_TIPO']\n",
    "df['NOME'] = df['NOME'].apply(lambda x: x.upper())\n",
    "df['TIPO'] = df['TIPO'].apply(lambda x: x.upper())\n",
    "df['DATA'] = pd.to_datetime(df['DATA'], format='%d/%m/%Y')\n",
    "print(df.dtypes)\n",
    "\n",
    "df.to_hdf('../data/processed/calendario.h5', key='data')"
   ]
  },
  {
   "cell_type": "markdown",
   "metadata": {},
   "source": [
    "## Processando dataset pluviométrico"
   ]
  },
  {
   "cell_type": "code",
   "execution_count": 76,
   "metadata": {},
   "outputs": [
    {
     "name": "stdout",
     "output_type": "stream",
     "text": [
      "DATA      datetime64[ns]\n",
      "INDICE           float64\n",
      "dtype: object\n"
     ]
    }
   ],
   "source": [
    "df = pd.read_csv('../data/raw/pluviometrico.csv', sep=';')\n",
    "df = df.drop(['Acumulado'], axis=1)\n",
    "df['MES'] = df['Mês/Ano'].apply(lambda x: x.split('/')[0])\n",
    "df['ANO'] = df['Mês/Ano'].apply(lambda x: x.split('/')[1])\n",
    "df = df.drop(['Posto', 'Mês/Ano'], axis=1)\n",
    "group = df.groupby(['ANO', 'MES']).mean().reset_index()\n",
    "df = pd.melt(group, ['ANO', 'MES'], group.columns.values[2:], 'DIA', 'INDICE')\n",
    "\n",
    "map_month = {\n",
    "    'jan': '01',\n",
    "    'fev': '02',\n",
    "    'mar': '03',\n",
    "    'abr': '04',\n",
    "    'mai': '05',\n",
    "    'jun': '06',\n",
    "    'jul': '07',\n",
    "    'ago': '08',\n",
    "    'set': '09',\n",
    "    'out': '10',\n",
    "    'nov': '11',\n",
    "    'dez': '12'}\n",
    "\n",
    "df['MES'] = df['MES'].apply(lambda x: map_month[x])\n",
    "df['DATA'] = df[['DIA', 'MES', 'ANO']].apply(lambda x: x[0] + '/' + x[1] + '/' + x[2], axis=1)\n",
    "df = df.drop(['DIA', 'MES', 'ANO'], axis=1)[['DATA', 'INDICE']]\n",
    "df['DATA'] = pd.to_datetime(df['DATA'], format='%d/%m/%Y', errors='coerce')\n",
    "df = df.dropna()\n",
    "print(df.dtypes)\n",
    "\n",
    "df.to_hdf('../data/processed/pluviometrico.h5', key='data')"
   ]
  }
 ],
 "metadata": {
  "kernelspec": {
   "display_name": "Python 3",
   "language": "python",
   "name": "python3"
  },
  "language_info": {
   "codemirror_mode": {
    "name": "ipython",
    "version": 3
   },
   "file_extension": ".py",
   "mimetype": "text/x-python",
   "name": "python",
   "nbconvert_exporter": "python",
   "pygments_lexer": "ipython3",
   "version": "3.6.6"
  }
 },
 "nbformat": 4,
 "nbformat_minor": 2
}
