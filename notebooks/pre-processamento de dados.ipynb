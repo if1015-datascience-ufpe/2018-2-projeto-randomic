{
 "cells": [
  {
   "cell_type": "markdown",
   "metadata": {},
   "source": [
    "## Importando bibliotecas"
   ]
  },
  {
   "cell_type": "code",
   "execution_count": 1,
   "metadata": {},
   "outputs": [],
   "source": [
    "import pandas as pd\n",
    "import numpy as np"
   ]
  },
  {
   "cell_type": "markdown",
   "metadata": {},
   "source": [
    "## Processando dataset socioeconômico"
   ]
  },
  {
   "cell_type": "code",
   "execution_count": 2,
   "metadata": {},
   "outputs": [
    {
     "name": "stdout",
     "output_type": "stream",
     "text": [
      "BAIRRO                   category\n",
      "RPA                      category\n",
      "MICROREGIAO              category\n",
      "DIST_MARCO_ZERO           float64\n",
      "HECTARES                  float64\n",
      "HABITANTES                  int64\n",
      "NUM_HOMENS                  int64\n",
      "POR_HOMENS                float64\n",
      "NUM_MULHERES                int64\n",
      "POR_MULHERES              float64\n",
      "0_4ANOS                     int64\n",
      "0_4ANOS%                  float64\n",
      "5_14ANOS                    int64\n",
      "5_14ANOS%                 float64\n",
      "15_17ANOS                   int64\n",
      "15_17ANOS%                float64\n",
      "18_24ANOS                   int64\n",
      "18_24ANOS%                float64\n",
      "25_59ANOS                   int64\n",
      "25_59ANOS%                float64\n",
      "60_ANOS                     int64\n",
      "60_ANOS%                  float64\n",
      "BRANCA                    float64\n",
      "PRETA                     float64\n",
      "PARDA                     float64\n",
      "AMARELA                   float64\n",
      "INDIGENA                  float64\n",
      "ALFABETIZADOS             float64\n",
      "CRESCIMENTO_ANUAL         float64\n",
      "DENSIDADE                 float64\n",
      "DOMICILIOS                  int64\n",
      "MEDIA_MORADORES           float64\n",
      "MULHERES_RESPONSAVEIS     float64\n",
      "RENDA                     float64\n",
      "dtype: object\n"
     ]
    }
   ],
   "source": [
    "df = pd.read_csv('../data/raw/socioeconomico.csv', sep=';')\n",
    "df['MICROREGIAO'] = df['MICROREGIAO'].astype('category')\n",
    "df['BAIRRO'] = df['BAIRRO'].astype('category')\n",
    "df['RPA'] = df['RPA'].astype('category')\n",
    "print(df.dtypes)\n",
    "\n",
    "df.to_hdf('../data/processed/socioeconomico.h5', key='data', format=\"table\")"
   ]
  },
  {
   "cell_type": "markdown",
   "metadata": {},
   "source": [
    "## Processando dataset de calendário"
   ]
  },
  {
   "cell_type": "code",
   "execution_count": 3,
   "metadata": {},
   "outputs": [
    {
     "name": "stdout",
     "output_type": "stream",
     "text": [
      "DATA           datetime64[ns]\n",
      "NOME                 category\n",
      "TIPO                 category\n",
      "CODIGO_TIPO          category\n",
      "dtype: object\n"
     ]
    }
   ],
   "source": [
    "df = pd.read_csv('../data/raw/calendario.csv', sep=';')\n",
    "df = df.drop(['description', 'raw_description', 'link'], axis=1)\n",
    "df.columns = ['DATA', 'NOME', 'TIPO', 'CODIGO_TIPO']\n",
    "df['NOME'] = df['NOME'].apply(lambda x: x.upper()).astype('category')\n",
    "df['TIPO'] = df['TIPO'].apply(lambda x: x.upper()).astype('category')\n",
    "df['CODIGO_TIPO'] = df['CODIGO_TIPO'].astype('category')\n",
    "df['DATA'] = pd.to_datetime(df['DATA'], format='%d/%m/%Y')\n",
    "print(df.dtypes)\n",
    "\n",
    "df.to_hdf('../data/processed/calendario.h5', key='data', format=\"table\")"
   ]
  },
  {
   "cell_type": "markdown",
   "metadata": {},
   "source": [
    "## Processando dataset pluviométrico"
   ]
  },
  {
   "cell_type": "code",
   "execution_count": 4,
   "metadata": {},
   "outputs": [
    {
     "name": "stdout",
     "output_type": "stream",
     "text": [
      "DATA      datetime64[ns]\n",
      "INDICE           float64\n",
      "dtype: object\n"
     ]
    }
   ],
   "source": [
    "df = pd.read_csv('../data/raw/pluviometrico.csv', sep=';')\n",
    "df = df.drop(['Acumulado'], axis=1)\n",
    "df['MES'] = df['Mês/Ano'].apply(lambda x: x.split('/')[0])\n",
    "df['ANO'] = df['Mês/Ano'].apply(lambda x: x.split('/')[1])\n",
    "df = df.drop(['Posto', 'Mês/Ano'], axis=1)\n",
    "group = df.groupby(['ANO', 'MES']).mean().reset_index()\n",
    "df = pd.melt(group, ['ANO', 'MES'], group.columns.values[2:], 'DIA', 'INDICE')\n",
    "\n",
    "map_month = {\n",
    "    'jan': '01',\n",
    "    'fev': '02',\n",
    "    'mar': '03',\n",
    "    'abr': '04',\n",
    "    'mai': '05',\n",
    "    'jun': '06',\n",
    "    'jul': '07',\n",
    "    'ago': '08',\n",
    "    'set': '09',\n",
    "    'out': '10',\n",
    "    'nov': '11',\n",
    "    'dez': '12'}\n",
    "\n",
    "df['MES'] = df['MES'].apply(lambda x: map_month[x])\n",
    "df['DATA'] = df[['DIA', 'MES', 'ANO']].apply(lambda x: x[0] + '/' + x[1] + '/' + x[2], axis=1)\n",
    "df = df.drop(['DIA', 'MES', 'ANO'], axis=1)[['DATA', 'INDICE']]\n",
    "df['DATA'] = pd.to_datetime(df['DATA'], format='%d/%m/%Y', errors='coerce')\n",
    "df = df.dropna()\n",
    "print(df.dtypes)\n",
    "\n",
    "df.to_hdf('../data/processed/pluviometrico.h5', key='data')"
   ]
  },
  {
   "cell_type": "markdown",
   "metadata": {},
   "source": [
    "## Processando dataset de localização"
   ]
  },
  {
   "cell_type": "code",
   "execution_count": 5,
   "metadata": {},
   "outputs": [
    {
     "name": "stdout",
     "output_type": "stream",
     "text": [
      "GRUPOSERVICO_CODIGO             category\n",
      "GRUPOSERVICO_DESCRICAO          category\n",
      "SERVICO_CODIGO                  category\n",
      "SERVICO_DESCRICAO               category\n",
      "LOGRADOURO                        object\n",
      "NUMERO                            object\n",
      "BAIRRO                          category\n",
      "RPA                             category\n",
      "DATA_DEMANDA              datetime64[ns]\n",
      "SITUACAO                        category\n",
      "DATA_ULT_SITUACAO         datetime64[ns]\n",
      "LAT                              float64\n",
      "LNG                              float64\n",
      "dtype: object\n"
     ]
    }
   ],
   "source": [
    "df = pd.read_csv(\"../data/raw/156/156cco2018.csv\", sep=\";\", encoding=\"latin\")\n",
    "df_lat_lng = pd.read_csv(\"../data/raw/lat_lng_2018.csv\")\n",
    "dfs = [df, df_lat_lng[[\"Lat\",\"Lng\"]]]\n",
    "df_final = pd.concat(dfs, axis=1)\n",
    "df_final.columns = ['GRUPOSERVICO_CODIGO', 'GRUPOSERVICO_DESCRICAO', 'SERVICO_CODIGO', 'SERVICO_DESCRICAO', \n",
    "    'LOGRADOURO', 'NUMERO', 'BAIRRO', 'RPA', 'DATA_DEMANDA', 'SITUACAO', 'DATA_ULT_SITUACAO', 'LAT', 'LNG']\n",
    "\n",
    "df_final['GRUPOSERVICO_DESCRICAO'] = df_final['GRUPOSERVICO_DESCRICAO'].astype('category')\n",
    "df_final['GRUPOSERVICO_CODIGO'] = df_final['GRUPOSERVICO_CODIGO'].astype('category')\n",
    "df_final['SERVICO_DESCRICAO'] = df_final['SERVICO_DESCRICAO'].astype('category')\n",
    "df_final['SERVICO_CODIGO'] = df_final['SERVICO_CODIGO'].astype('category')\n",
    "df_final['SITUACAO'] = df_final['SITUACAO'].astype('category')\n",
    "df_final['BAIRRO'] = df_final['BAIRRO'].astype('category')\n",
    "df_final['RPA'] = df_final['RPA'].astype('category')\n",
    "\n",
    "df_final['LAT'] = df_final['LAT'].apply(lambda x: float(x) if x != 'ZERO_RESULTS' else np.NaN)\n",
    "df_final['LNG'] = df_final['LNG'].apply(lambda x: float(x) if x != 'ZERO_RESULTS' else np.NaN)\n",
    "\n",
    "df_final['DATA_ULT_SITUACAO'] = pd.to_datetime(df['DATA_ULT_SITUACAO'], format='%Y-%m-%d')\n",
    "df_final['DATA_DEMANDA'] = pd.to_datetime(df['DATA_DEMANDA'], format='%Y-%m-%d')\n",
    "print(df_final.dtypes)\n",
    "\n",
    "df_final.to_hdf('../data/processed/latlng.h5', key='data', format=\"table\")"
   ]
  },
  {
   "cell_type": "markdown",
   "metadata": {},
   "source": [
    "## Processando datasets das solicitações 156"
   ]
  },
  {
   "cell_type": "code",
   "execution_count": 10,
   "metadata": {},
   "outputs": [],
   "source": [
    "dfs = []\n",
    "for year in range(2012, 2019):\n",
    "    path = '../data/raw/156/156cco' + str(2012) + '.csv'\n",
    "    df = pd.read_csv(path, sep=\";\", encoding=\"latin\")\n",
    "    df['ANO'] = [year] * df.shape[0]\n",
    "    dfs.append(df)\n",
    "df = pd.concat(dfs)"
   ]
  },
  {
   "cell_type": "code",
   "execution_count": 12,
   "metadata": {},
   "outputs": [
    {
     "ename": "KeyError",
     "evalue": "'CONSERVACAO'",
     "output_type": "error",
     "traceback": [
      "\u001b[0;31m---------------------------------------------------------------------------\u001b[0m",
      "\u001b[0;31mKeyError\u001b[0m                                  Traceback (most recent call last)",
      "\u001b[0;32m<ipython-input-12-dce792d1ae46>\u001b[0m in \u001b[0;36m<module>\u001b[0;34m\u001b[0m\n\u001b[1;32m     21\u001b[0m }\n\u001b[1;32m     22\u001b[0m \u001b[0;34m\u001b[0m\u001b[0m\n\u001b[0;32m---> 23\u001b[0;31m \u001b[0mdf\u001b[0m\u001b[0;34m[\u001b[0m\u001b[0;34m'GRUPOSERVICO_DESCRICAO'\u001b[0m\u001b[0;34m]\u001b[0m\u001b[0;34m.\u001b[0m\u001b[0mapply\u001b[0m\u001b[0;34m(\u001b[0m\u001b[0;32mlambda\u001b[0m \u001b[0mx\u001b[0m\u001b[0;34m:\u001b[0m \u001b[0mmapService\u001b[0m\u001b[0;34m[\u001b[0m\u001b[0mx\u001b[0m\u001b[0;34m]\u001b[0m\u001b[0;34m)\u001b[0m\u001b[0;34m\u001b[0m\u001b[0m\n\u001b[0m\u001b[1;32m     24\u001b[0m \u001b[0msorted\u001b[0m\u001b[0;34m(\u001b[0m\u001b[0mset\u001b[0m\u001b[0;34m(\u001b[0m\u001b[0mdf\u001b[0m\u001b[0;34m.\u001b[0m\u001b[0mSERVICO_DESCRICAO\u001b[0m\u001b[0;34m)\u001b[0m\u001b[0;34m)\u001b[0m\u001b[0;34m\u001b[0m\u001b[0m\n",
      "\u001b[0;32m~/anaconda3/lib/python3.6/site-packages/pandas/core/series.py\u001b[0m in \u001b[0;36mapply\u001b[0;34m(self, func, convert_dtype, args, **kwds)\u001b[0m\n\u001b[1;32m   3192\u001b[0m             \u001b[0;32melse\u001b[0m\u001b[0;34m:\u001b[0m\u001b[0;34m\u001b[0m\u001b[0m\n\u001b[1;32m   3193\u001b[0m                 \u001b[0mvalues\u001b[0m \u001b[0;34m=\u001b[0m \u001b[0mself\u001b[0m\u001b[0;34m.\u001b[0m\u001b[0mastype\u001b[0m\u001b[0;34m(\u001b[0m\u001b[0mobject\u001b[0m\u001b[0;34m)\u001b[0m\u001b[0;34m.\u001b[0m\u001b[0mvalues\u001b[0m\u001b[0;34m\u001b[0m\u001b[0m\n\u001b[0;32m-> 3194\u001b[0;31m                 \u001b[0mmapped\u001b[0m \u001b[0;34m=\u001b[0m \u001b[0mlib\u001b[0m\u001b[0;34m.\u001b[0m\u001b[0mmap_infer\u001b[0m\u001b[0;34m(\u001b[0m\u001b[0mvalues\u001b[0m\u001b[0;34m,\u001b[0m \u001b[0mf\u001b[0m\u001b[0;34m,\u001b[0m \u001b[0mconvert\u001b[0m\u001b[0;34m=\u001b[0m\u001b[0mconvert_dtype\u001b[0m\u001b[0;34m)\u001b[0m\u001b[0;34m\u001b[0m\u001b[0m\n\u001b[0m\u001b[1;32m   3195\u001b[0m \u001b[0;34m\u001b[0m\u001b[0m\n\u001b[1;32m   3196\u001b[0m         \u001b[0;32mif\u001b[0m \u001b[0mlen\u001b[0m\u001b[0;34m(\u001b[0m\u001b[0mmapped\u001b[0m\u001b[0;34m)\u001b[0m \u001b[0;32mand\u001b[0m \u001b[0misinstance\u001b[0m\u001b[0;34m(\u001b[0m\u001b[0mmapped\u001b[0m\u001b[0;34m[\u001b[0m\u001b[0;36m0\u001b[0m\u001b[0;34m]\u001b[0m\u001b[0;34m,\u001b[0m \u001b[0mSeries\u001b[0m\u001b[0;34m)\u001b[0m\u001b[0;34m:\u001b[0m\u001b[0;34m\u001b[0m\u001b[0m\n",
      "\u001b[0;32mpandas/_libs/src/inference.pyx\u001b[0m in \u001b[0;36mpandas._libs.lib.map_infer\u001b[0;34m()\u001b[0m\n",
      "\u001b[0;32m<ipython-input-12-dce792d1ae46>\u001b[0m in \u001b[0;36m<lambda>\u001b[0;34m(x)\u001b[0m\n\u001b[1;32m     21\u001b[0m }\n\u001b[1;32m     22\u001b[0m \u001b[0;34m\u001b[0m\u001b[0m\n\u001b[0;32m---> 23\u001b[0;31m \u001b[0mdf\u001b[0m\u001b[0;34m[\u001b[0m\u001b[0;34m'GRUPOSERVICO_DESCRICAO'\u001b[0m\u001b[0;34m]\u001b[0m\u001b[0;34m.\u001b[0m\u001b[0mapply\u001b[0m\u001b[0;34m(\u001b[0m\u001b[0;32mlambda\u001b[0m \u001b[0mx\u001b[0m\u001b[0;34m:\u001b[0m \u001b[0mmapService\u001b[0m\u001b[0;34m[\u001b[0m\u001b[0mx\u001b[0m\u001b[0;34m]\u001b[0m\u001b[0;34m)\u001b[0m\u001b[0;34m\u001b[0m\u001b[0m\n\u001b[0m\u001b[1;32m     24\u001b[0m \u001b[0msorted\u001b[0m\u001b[0;34m(\u001b[0m\u001b[0mset\u001b[0m\u001b[0;34m(\u001b[0m\u001b[0mdf\u001b[0m\u001b[0;34m.\u001b[0m\u001b[0mSERVICO_DESCRICAO\u001b[0m\u001b[0;34m)\u001b[0m\u001b[0;34m)\u001b[0m\u001b[0;34m\u001b[0m\u001b[0m\n",
      "\u001b[0;31mKeyError\u001b[0m: 'CONSERVACAO'"
     ]
    }
   ],
   "source": [
    "mapService = {\n",
    "    'CAPINAÃ\\x87Ã\\x83O EM VIA PAVIMENTADA': 'CAPINACAO EM VIA PAVIMENTADA',\n",
    "    'DANO CAUSADO COLETA/LIXO': 'DANO CAUSADO COLETA LIXO',\n",
    "    'ERRADICAÃ\\x87Ã\\x83O DE ARVORES': 'ERRADICACAO DE ARVORES',\n",
    "    'EXUMAÃ\\x87Ã\\x83O': 'EXUMACAO',\n",
    "    'FURTO EM TÃ\\x9aMULOS': 'FURTO EM TUMULOS',\n",
    "    'INSTALAÃ\\x87Ã\\x83O DE CONTENEDORES DE LIXO': 'INSTALACAO DE CONTENEDORES DE LIXO',\n",
    "    'LIMP.DE GAL,VALETAS,SARJETAS': 'LIMP. DE GALERIAS,VALETAS,SARJETAS',\n",
    "    'LIMPEZA DE  CANALETAS': 'LIMPEZA DE CANALETAS',\n",
    "    'MANUTENÃ\\x87Ã\\x83O EM LÃ\\x82MPADA APAGADA': 'MANUTENCAO EM LAMPADA APAGADA',\n",
    "    'MUDANÃ\\x87A DE PONTO DE CONFINAMENTO DE LIXO': 'MUDANCA DE PONTO DE CONFINAMENTO DE LIXO',\n",
    "    'MUNDANÃ\\x87A DE PONTO DE CONFINAMENTO DE LIXO': 'MUDANCA DE PONTO DE CONFINAMENTO DE LIXO',\n",
    "    'OPERAÃ\\x87Ã\\x83O TAPA-BURACO EM ASFALTO': 'OPER. TAPA-BURACO EM ASFALTO',\n",
    "    'RECUPERAÃ\\x87Ã\\x83O DE PAVIMENTO PARALELEPIPEDO': 'RECUPERACAO DE PAVIMENTO PARALELEPIPEDO',\n",
    "    'REMOÃ\\x87Ã\\x83O DE ANIMAIS MORTOS DE GRANDE PORTE': 'REMOCAO DE ANIMAIS MORTOS DE GRANDE PORTE',\n",
    "    'REMOCAO ANIMAIS MORTOS PEQUENOS': 'REMOCAO DE ANIMAIS MORTOS PEQUENOS',\n",
    "    'REMOÃ\\x87Ã\\x83O DE ANIMAIS MORTOS PEQUENOS': 'REMOCAO DE ANIMAIS MORTOS PEQUENOS',\n",
    "    'REMOÃ\\x87Ã\\x83O DE ENTULHOS': 'REMOCAO DE ENTULHOS',\n",
    "    'REMOÃ\\x87Ã\\x83O DE PONTO CRITICO': 'REMOCAO DE PONTO CRITICO',\n",
    "    'REPOSIÃ\\x87Ã\\x83O TAMPA DE POÃ\\x87O, GALERIAS E PRE-MOLDADOS': 'REPOS.TAMPA POCO, GALER E PRE-MOLDADOS',\n",
    "}\n",
    "\n",
    "df['GRUPOSERVICO_DESCRICAO'].apply(lambda x: mapService[x] if x in ma)\n",
    "sorted(set(df.SERVICO_DESCRICAO))"
   ]
  },
  {
   "cell_type": "code",
   "execution_count": 7,
   "metadata": {},
   "outputs": [
    {
     "name": "stdout",
     "output_type": "stream",
     "text": [
      "GRUPOSERVICO_CODIGO             category\n",
      "GRUPOSERVICO_DESCRICAO          category\n",
      "SERVICO_CODIGO                  category\n",
      "SERVICO_DESCRICAO               category\n",
      "LOGRADOURO                        object\n",
      "NUMERO                            object\n",
      "BAIRRO                          category\n",
      "RPA                             category\n",
      "DATA_DEMANDA              datetime64[ns]\n",
      "SITUACAO                        category\n",
      "DATA_ULT_SITUACAO         datetime64[ns]\n",
      "ANO                                int64\n",
      "dtype: object\n"
     ]
    }
   ],
   "source": [
    "df['GRUPOSERVICO_DESCRICAO'] = df['GRUPOSERVICO_DESCRICAO'].astype('category')\n",
    "df['GRUPOSERVICO_CODIGO'] = df['GRUPOSERVICO_CODIGO'].astype('category')\n",
    "df['SERVICO_DESCRICAO'] = df['SERVICO_DESCRICAO'].astype('category')\n",
    "df['SERVICO_CODIGO'] = df['SERVICO_CODIGO'].astype('category')\n",
    "df['SITUACAO'] = df['SITUACAO'].astype('category')\n",
    "df['BAIRRO'] = df['BAIRRO'].astype('category')\n",
    "df['RPA'] = df['RPA'].astype('category')\n",
    "\n",
    "df['DATA_ULT_SITUACAO'] = pd.to_datetime(df['DATA_ULT_SITUACAO'], format='%Y-%m-%d')\n",
    "df['DATA_DEMANDA'] = pd.to_datetime(df['DATA_DEMANDA'], format='%Y-%m-%d')\n",
    "print(df.dtypes)\n",
    "\n",
    "df.to_hdf('../data/processed/solicitacoes156.h5', key='data', format=\"table\")"
   ]
  },
  {
   "cell_type": "code",
   "execution_count": null,
   "metadata": {},
   "outputs": [],
   "source": []
  }
 ],
 "metadata": {
  "kernelspec": {
   "display_name": "Python 3",
   "language": "python",
   "name": "python3"
  },
  "language_info": {
   "codemirror_mode": {
    "name": "ipython",
    "version": 3
   },
   "file_extension": ".py",
   "mimetype": "text/x-python",
   "name": "python",
   "nbconvert_exporter": "python",
   "pygments_lexer": "ipython3",
   "version": "3.7.0"
  }
 },
 "nbformat": 4,
 "nbformat_minor": 2
}
