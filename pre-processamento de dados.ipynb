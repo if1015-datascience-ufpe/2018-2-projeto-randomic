{
 "cells": [
  {
   "cell_type": "markdown",
   "metadata": {},
   "source": [
    "## Importando bibliotecas"
   ]
  },
  {
   "cell_type": "code",
   "execution_count": 1,
   "metadata": {},
   "outputs": [],
   "source": [
    "import pandas as pd"
   ]
  },
  {
   "cell_type": "markdown",
   "metadata": {},
   "source": [
    "## Processando dataset das solicitações 156"
   ]
  },
  {
   "cell_type": "code",
   "execution_count": null,
   "metadata": {},
   "outputs": [],
   "source": [
    "for year in range(2012, 2019):\n",
    "    local = 'data/156/156cco' + str(year) + '.csv'\n",
    "    "
   ]
  },
  {
   "cell_type": "code",
   "execution_count": null,
   "metadata": {},
   "outputs": [],
   "source": [
    "df = df.iloc[:,:-1]\n",
    "df['mes'] = df['Mês/Ano'].apply(lambda x: x.split('/')[0])\n",
    "df['ano'] = df['Mês/Ano'].apply(lambda x: x.split('/')[1])\n",
    "df = df.iloc[:,2:]\n",
    "group = df.groupby(['ano', 'mes']).mean().reset_index()\n",
    "pd.melt(group, ['ano', 'mes'], group.columns.values[2:], 'dia', 'indice')"
   ]
  }
 ],
 "metadata": {
  "kernelspec": {
   "display_name": "Python 3",
   "language": "python",
   "name": "python3"
  },
  "language_info": {
   "codemirror_mode": {
    "name": "ipython",
    "version": 3
   },
   "file_extension": ".py",
   "mimetype": "text/x-python",
   "name": "python",
   "nbconvert_exporter": "python",
   "pygments_lexer": "ipython3",
   "version": "3.6.6"
  }
 },
 "nbformat": 4,
 "nbformat_minor": 2
}
